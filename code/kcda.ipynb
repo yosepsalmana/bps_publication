{
 "cells": [
  {
   "cell_type": "markdown",
   "id": "9d388007-75ce-4171-b83d-805e366a9923",
   "metadata": {
    "jp-MarkdownHeadingCollapsed": true
   },
   "source": [
    "### Import Library Needed"
   ]
  },
  {
   "cell_type": "code",
   "execution_count": null,
   "id": "18d7c7e9-8831-4e25-bb0a-84dd6e6dd265",
   "metadata": {},
   "outputs": [],
   "source": [
    "import pandas as pd"
   ]
  },
  {
   "cell_type": "markdown",
   "id": "4b4255d1-0abe-40a0-9d6d-3f265f0b8157",
   "metadata": {
    "jp-MarkdownHeadingCollapsed": true
   },
   "source": [
    "## Load the datasets"
   ]
  },
  {
   "cell_type": "code",
   "execution_count": 532,
   "id": "0951b63f-7d0f-48ab-92a3-4d459a515b9b",
   "metadata": {},
   "outputs": [],
   "source": [
    "df1 = pd.read_excel('D:/Test/kcda.xlsx', sheet_name  = \"sarana_kesehatan\")\n",
    "df2 = pd.read_excel('D:/Test/kcda.xlsx', sheet_name  = \"jumlah_sls\")\n",
    "df3 = pd.read_excel('D:/Test/kcda.xlsx', sheet_name  = \"wabah_penyakit\")\n",
    "df4 = pd.read_excel('D:/Test/kcda.xlsx', sheet_name  = \"wabah_meninggal\")\n",
    "df5 = pd.read_excel('D:/Test/kcda.xlsx', sheet_name  = \"tempat_ibadah\")\n",
    "df6 = pd.read_excel('D:/Test/kcda.xlsx', sheet_name  = \"lembaga_kemasyarakatan\")\n",
    "df7 = pd.read_excel('D:/Test/kcda.xlsx', sheet_name  = \"bts\")\n",
    "df8 = pd.read_excel('D:/Test/kcda.xlsx', sheet_name  = \"sinyal\")\n",
    "df9 = pd.read_excel('D:/Test/kcda.xlsx', sheet_name  = \"pos\")\n",
    "df10 = pd.read_excel('D:/Test/kcda.xlsx', sheet_name  = \"industri\")\n",
    "df11 = pd.read_excel('D:/Test/kcda.xlsx', sheet_name  = \"perbankan\")\n",
    "df12 = pd.read_excel('D:/Test/kcda.xlsx', sheet_name  = \"kud\")\n",
    "df13 = pd.read_excel('D:/Test/kcda.xlsx', sheet_name  = \"sarana_prasarana\")\n",
    "df14 = pd.read_excel('D:/Test/kcda.xlsx', sheet_name  = \"linmas\")\n",
    "df15 = pd.read_excel('D:/Test/kcda.xlsx', sheet_name  = \"bumdes\")"
   ]
  },
  {
   "cell_type": "markdown",
   "id": "71dd7c3d-faf2-4d2e-a9c3-c7993ecb7da2",
   "metadata": {
    "jp-MarkdownHeadingCollapsed": true
   },
   "source": [
    "## Data Cleaning & Transformation"
   ]
  },
  {
   "cell_type": "code",
   "execution_count": 533,
   "id": "958e62e5-6d9b-4fbf-bb8b-e380bcd6768c",
   "metadata": {},
   "outputs": [],
   "source": [
    "class Data_Transformation():\n",
    "    @staticmethod\n",
    "    def split_kecamatan(df):\n",
    "        if 'nama_kecamatan' in df.columns and 'nama_desa' in df.columns:\n",
    "            df.columns = df.columns.str.strip().str.lower().str.replace(' ', '_')\n",
    "            return df\n",
    "        else:\n",
    "            rows = []\n",
    "            kode = None\n",
    "            nama_kecamatan = None\n",
    "            \n",
    "            for index, row in df.iterrows():\n",
    "                kecamatan_value = str(row['Kecamatan'])\n",
    "                if kecamatan_value.isdigit():\n",
    "                    kode = kecamatan_value\n",
    "                    \n",
    "                    if index + 1 < len(df):\n",
    "                        next_kecamatan = str(df.iloc[index + 1]['Kecamatan'])\n",
    "                        \n",
    "                        if not next_kecamatan.isdigit():\n",
    "                            nama_kecamatan = next_kecamatan.upper()\n",
    "                            \n",
    "                else:\n",
    "                    nama_desa = kecamatan_value.upper()\n",
    "                    if not nama_desa.isdigit() and \"GRAND TOTAL\" not in nama_desa:\n",
    "                        rows.append([kode, nama_kecamatan, nama_desa] + row[1:].tolist())\n",
    "            \n",
    "            transformed_df = pd.DataFrame(rows, columns=['kode', 'nama_kecamatan', 'nama_desa'] + df.columns[1:].tolist())\n",
    "            transformed_df.columns = transformed_df.columns.str.strip().str.lower().str.replace(' ', '_')\n",
    "            \n",
    "            return transformed_df\n",
    "\n",
    "    @staticmethod\n",
    "    def remove_first_rows (transformed_df):\n",
    "        if 'kode' in transformed_df.columns :\n",
    "            first_rows = transformed_df.groupby('kode').head(1).index\n",
    "            filtered_df = transformed_df.drop(first_rows)\n",
    "            return filtered_df\n",
    "        else :\n",
    "            return transformed_df\n",
    "            \n",
    "    @staticmethod\n",
    "    def remove_code (filtered_df):\n",
    "        if 'kode' in filtered_df.columns :\n",
    "            removecode_df = filtered_df.drop(columns=['kode'])\n",
    "            return removecode_df\n",
    "        else :\n",
    "            return filtered_df\n",
    "\n",
    "    @staticmethod\n",
    "    def category(removecode_df, sheet_name):\n",
    "        removecode_df['kategori'] = sheet_name\n",
    "        columns = list(removecode_df.columns)\n",
    "        if 'nama_desa' in columns:\n",
    "            add_category = [col for col in columns if col != 'kategori']\n",
    "            add_category.insert(add_category.index('nama_desa') + 1, 'kategori')\n",
    "            add_category_df = removecode_df[add_category]\n",
    "            return add_category_df\n",
    "        else:\n",
    "            return removecode_df"
   ]
  },
  {
   "cell_type": "code",
   "execution_count": 534,
   "id": "1a5e3305-437a-4200-8459-89dd31828f29",
   "metadata": {},
   "outputs": [],
   "source": [
    "transformed_df1 = Data_Transformation.split_kecamatan(df1)\n",
    "transformed_df2 = Data_Transformation.split_kecamatan(df2)\n",
    "transformed_df3 = Data_Transformation.split_kecamatan(df3)\n",
    "transformed_df4 = Data_Transformation.split_kecamatan(df4)\n",
    "transformed_df5 = Data_Transformation.split_kecamatan(df5)\n",
    "transformed_df6 = Data_Transformation.split_kecamatan(df6)\n",
    "transformed_df7 = Data_Transformation.split_kecamatan(df7)\n",
    "transformed_df8 = Data_Transformation.split_kecamatan(df8)\n",
    "transformed_df9 = Data_Transformation.split_kecamatan(df9)\n",
    "transformed_df10 = Data_Transformation.split_kecamatan(df10)\n",
    "transformed_df11 = Data_Transformation.split_kecamatan(df11)\n",
    "transformed_df12 = Data_Transformation.split_kecamatan(df12)\n",
    "transformed_df13 = Data_Transformation.split_kecamatan(df13)\n",
    "transformed_df14 = Data_Transformation.split_kecamatan(df14)\n",
    "transformed_df15 = Data_Transformation.split_kecamatan(df15)"
   ]
  },
  {
   "cell_type": "code",
   "execution_count": 535,
   "id": "990e01c0-1701-4a10-858a-49e565e9bf4e",
   "metadata": {},
   "outputs": [],
   "source": [
    "filtered_df1 = Data_Transformation.remove_first_rows(transformed_df1)\n",
    "filtered_df2 = Data_Transformation.remove_first_rows(transformed_df2)\n",
    "filtered_df3 = Data_Transformation.remove_first_rows(transformed_df3)\n",
    "filtered_df4 = Data_Transformation.remove_first_rows(transformed_df4)\n",
    "filtered_df5 = Data_Transformation.remove_first_rows(transformed_df5)\n",
    "filtered_df6 = Data_Transformation.remove_first_rows(transformed_df6)\n",
    "filtered_df7 = Data_Transformation.remove_first_rows(transformed_df7)\n",
    "filtered_df8 = Data_Transformation.remove_first_rows(transformed_df8)\n",
    "filtered_df9 = Data_Transformation.remove_first_rows(transformed_df9)\n",
    "filtered_df10 = Data_Transformation.remove_first_rows(transformed_df10)\n",
    "filtered_df11 = Data_Transformation.remove_first_rows(transformed_df11)\n",
    "filtered_df12 = Data_Transformation.remove_first_rows(transformed_df12)\n",
    "filtered_df13 = Data_Transformation.remove_first_rows(transformed_df13)\n",
    "filtered_df14 = Data_Transformation.remove_first_rows(transformed_df14)\n",
    "filtered_df15 = Data_Transformation.remove_first_rows(transformed_df15)"
   ]
  },
  {
   "cell_type": "code",
   "execution_count": 536,
   "id": "13876946-c4fc-47fc-9738-e9a9108f0aee",
   "metadata": {},
   "outputs": [],
   "source": [
    "removecode_df1 = Data_Transformation.remove_code(filtered_df1)\n",
    "removecode_df2 = Data_Transformation.remove_code(filtered_df2)\n",
    "removecode_df3 = Data_Transformation.remove_code(filtered_df3)\n",
    "removecode_df4 = Data_Transformation.remove_code(filtered_df4)\n",
    "removecode_df5 = Data_Transformation.remove_code(filtered_df5)\n",
    "removecode_df6 = Data_Transformation.remove_code(filtered_df6)\n",
    "removecode_df7 = Data_Transformation.remove_code(filtered_df7)\n",
    "removecode_df8 = Data_Transformation.remove_code(filtered_df8)\n",
    "removecode_df9 = Data_Transformation.remove_code(filtered_df9)\n",
    "removecode_df10 = Data_Transformation.remove_code(filtered_df10)\n",
    "removecode_df11 = Data_Transformation.remove_code(filtered_df11)\n",
    "removecode_df12 = Data_Transformation.remove_code(filtered_df12)\n",
    "removecode_df13 = Data_Transformation.remove_code(filtered_df13)\n",
    "removecode_df14 = Data_Transformation.remove_code(filtered_df14)\n",
    "removecode_df15 = Data_Transformation.remove_code(filtered_df15)"
   ]
  },
  {
   "cell_type": "code",
   "execution_count": 537,
   "id": "e146fb0b-d192-4cb8-94f9-5b0f6abfdd11",
   "metadata": {},
   "outputs": [],
   "source": [
    "add_category_df1 = Data_Transformation.category(removecode_df1, \"sarana_kesehatan\")\n",
    "add_category_df2 = Data_Transformation.category(removecode_df2, \"jumlah_sls\")\n",
    "add_category_df3 = Data_Transformation.category(removecode_df3, \"wabah_penyakit\")\n",
    "add_category_df4 = Data_Transformation.category(removecode_df4, \"wabah_meninggal\")\n",
    "add_category_df5 = Data_Transformation.category(removecode_df5, \"tempat_ibadah\")\n",
    "add_category_df6 = Data_Transformation.category(removecode_df6, \"lembaga_kemasyarakatan\")\n",
    "add_category_df7 = Data_Transformation.category(removecode_df7, \"bts\")\n",
    "add_category_df8 = Data_Transformation.category(removecode_df8, \"sinyal\")\n",
    "add_category_df9 = Data_Transformation.category(removecode_df9, \"pos\")\n",
    "add_category_df10 = Data_Transformation.category(removecode_df10, \"industri\")\n",
    "add_category_df11 = Data_Transformation.category(removecode_df11, \"perbankan\")\n",
    "add_category_df12 = Data_Transformation.category(removecode_df12, \"kud\")\n",
    "add_category_df13 = Data_Transformation.category(removecode_df13, \"sarana_prasarana\")\n",
    "add_category_df14 = Data_Transformation.category(removecode_df14, \"linmas\")\n",
    "add_category_df15 = Data_Transformation.category(removecode_df15, \"bumdes\")"
   ]
  },
  {
   "cell_type": "markdown",
   "id": "8e3dc834-d5b1-4545-8f9a-4047e610b3c1",
   "metadata": {
    "jp-MarkdownHeadingCollapsed": true
   },
   "source": [
    "## Check each dataset and clean"
   ]
  },
  {
   "cell_type": "markdown",
   "id": "f32d4f8b-634b-40bc-addf-ab0aabead7c0",
   "metadata": {
    "jp-MarkdownHeadingCollapsed": true
   },
   "source": [
    "### Change to int function"
   ]
  },
  {
   "cell_type": "code",
   "execution_count": 572,
   "id": "5efc3c3a-834c-4644-9a66-56f2d40b9bc9",
   "metadata": {},
   "outputs": [],
   "source": [
    "def change_to_int (df) :\n",
    "    exclude_columns = ['nama_kecamatan', 'nama_desa', 'kategori']\n",
    "    columns_to_convert = [col for col in df.columns if col not in exclude_columns]\n",
    "    df[columns_to_convert] = df[columns_to_convert].apply(pd.to_numeric, errors='coerce').fillna(0).astype(int)\n",
    "    return df"
   ]
  },
  {
   "cell_type": "markdown",
   "id": "f243e700-4acd-4d69-8fdb-6518d99363cb",
   "metadata": {
    "jp-MarkdownHeadingCollapsed": true
   },
   "source": [
    "### Sheet 1"
   ]
  },
  {
   "cell_type": "code",
   "execution_count": 538,
   "id": "87e36886-d5db-4dd2-99a7-6dd646dafddd",
   "metadata": {},
   "outputs": [
    {
     "data": {
      "text/html": [
       "<div>\n",
       "<style scoped>\n",
       "    .dataframe tbody tr th:only-of-type {\n",
       "        vertical-align: middle;\n",
       "    }\n",
       "\n",
       "    .dataframe tbody tr th {\n",
       "        vertical-align: top;\n",
       "    }\n",
       "\n",
       "    .dataframe thead th {\n",
       "        text-align: right;\n",
       "    }\n",
       "</style>\n",
       "<table border=\"1\" class=\"dataframe\">\n",
       "  <thead>\n",
       "    <tr style=\"text-align: right;\">\n",
       "      <th></th>\n",
       "      <th>nama_kecamatan</th>\n",
       "      <th>nama_desa</th>\n",
       "      <th>kategori</th>\n",
       "      <th>rumah_sakit</th>\n",
       "      <th>rumah_sakit_bersalin</th>\n",
       "      <th>puskesmas_dengan_rawat_inap</th>\n",
       "      <th>puskesmas_tanpa_rawat_inap</th>\n",
       "      <th>pustu</th>\n",
       "      <th>poliklinik/_balai_pengobatan</th>\n",
       "      <th>praktik_dokter</th>\n",
       "      <th>rumah_bersalin</th>\n",
       "      <th>praktik_bidan</th>\n",
       "      <th>poskesdes</th>\n",
       "      <th>polindes</th>\n",
       "      <th>apotek</th>\n",
       "      <th>toko_khusus_obat/jamu</th>\n",
       "    </tr>\n",
       "  </thead>\n",
       "  <tbody>\n",
       "    <tr>\n",
       "      <th>1</th>\n",
       "      <td>CIPATUJAH</td>\n",
       "      <td>BANTARKALONG</td>\n",
       "      <td>sarana_kesehatan</td>\n",
       "      <td>0</td>\n",
       "      <td>0</td>\n",
       "      <td>0</td>\n",
       "      <td>0</td>\n",
       "      <td>0</td>\n",
       "      <td>0</td>\n",
       "      <td>0</td>\n",
       "      <td>0</td>\n",
       "      <td>3</td>\n",
       "      <td>0</td>\n",
       "      <td>0</td>\n",
       "      <td>0</td>\n",
       "      <td>0</td>\n",
       "    </tr>\n",
       "    <tr>\n",
       "      <th>2</th>\n",
       "      <td>CIPATUJAH</td>\n",
       "      <td>CIANDUM</td>\n",
       "      <td>sarana_kesehatan</td>\n",
       "      <td>0</td>\n",
       "      <td>0</td>\n",
       "      <td>0</td>\n",
       "      <td>0</td>\n",
       "      <td>0</td>\n",
       "      <td>0</td>\n",
       "      <td>0</td>\n",
       "      <td>0</td>\n",
       "      <td>1</td>\n",
       "      <td>0</td>\n",
       "      <td>1</td>\n",
       "      <td>0</td>\n",
       "      <td>0</td>\n",
       "    </tr>\n",
       "    <tr>\n",
       "      <th>3</th>\n",
       "      <td>CIPATUJAH</td>\n",
       "      <td>CIHERAS</td>\n",
       "      <td>sarana_kesehatan</td>\n",
       "      <td>0</td>\n",
       "      <td>0</td>\n",
       "      <td>0</td>\n",
       "      <td>0</td>\n",
       "      <td>1</td>\n",
       "      <td>1</td>\n",
       "      <td>0</td>\n",
       "      <td>0</td>\n",
       "      <td>1</td>\n",
       "      <td>0</td>\n",
       "      <td>1</td>\n",
       "      <td>2</td>\n",
       "      <td>1</td>\n",
       "    </tr>\n",
       "  </tbody>\n",
       "</table>\n",
       "</div>"
      ],
      "text/plain": [
       "  nama_kecamatan     nama_desa          kategori  rumah_sakit  \\\n",
       "1      CIPATUJAH  BANTARKALONG  sarana_kesehatan            0   \n",
       "2      CIPATUJAH       CIANDUM  sarana_kesehatan            0   \n",
       "3      CIPATUJAH       CIHERAS  sarana_kesehatan            0   \n",
       "\n",
       "   rumah_sakit_bersalin  puskesmas_dengan_rawat_inap  \\\n",
       "1                     0                            0   \n",
       "2                     0                            0   \n",
       "3                     0                            0   \n",
       "\n",
       "   puskesmas_tanpa_rawat_inap  pustu  poliklinik/_balai_pengobatan  \\\n",
       "1                           0      0                             0   \n",
       "2                           0      0                             0   \n",
       "3                           0      1                             1   \n",
       "\n",
       "   praktik_dokter  rumah_bersalin  praktik_bidan  poskesdes  polindes  apotek  \\\n",
       "1               0               0              3          0         0       0   \n",
       "2               0               0              1          0         1       0   \n",
       "3               0               0              1          0         1       2   \n",
       "\n",
       "   toko_khusus_obat/jamu  \n",
       "1                      0  \n",
       "2                      0  \n",
       "3                      1  "
      ]
     },
     "execution_count": 538,
     "metadata": {},
     "output_type": "execute_result"
    }
   ],
   "source": [
    "add_category_df1.head(3)"
   ]
  },
  {
   "cell_type": "code",
   "execution_count": 539,
   "id": "a52662d1-bf6e-45b3-a6db-96d0b3fed337",
   "metadata": {},
   "outputs": [
    {
     "data": {
      "text/plain": [
       "nama_kecamatan                  0\n",
       "nama_desa                       0\n",
       "kategori                        0\n",
       "rumah_sakit                     0\n",
       "rumah_sakit_bersalin            0\n",
       "puskesmas_dengan_rawat_inap     0\n",
       "puskesmas_tanpa_rawat_inap      0\n",
       "pustu                           0\n",
       "poliklinik/_balai_pengobatan    0\n",
       "praktik_dokter                  0\n",
       "rumah_bersalin                  0\n",
       "praktik_bidan                   0\n",
       "poskesdes                       0\n",
       "polindes                        0\n",
       "apotek                          0\n",
       "toko_khusus_obat/jamu           0\n",
       "dtype: int64"
      ]
     },
     "execution_count": 539,
     "metadata": {},
     "output_type": "execute_result"
    }
   ],
   "source": [
    "add_category_df1.isna().sum()"
   ]
  },
  {
   "cell_type": "code",
   "execution_count": 540,
   "id": "1ef4efda-00ea-4450-94b5-58c9a141e45e",
   "metadata": {},
   "outputs": [
    {
     "data": {
      "text/plain": [
       "(array(['CIPATUJAH', 'KARANGNUNGGAL', 'CIKALONG', 'PANCATENGAH',\n",
       "        'CIKATOMAS', 'CIBALONG', 'PARUNGPONTENG', 'BANTARKALONG',\n",
       "        'BOJONGASIH', 'CULAMEGA', 'BOJONGGAMBIR', 'SODONGHILIR', 'TARAJU',\n",
       "        'SALAWU', 'PUSPAHIANG', 'TANJUNGJAYA', 'SUKARAJA', 'SALOPA',\n",
       "        'JATIWARAS', 'CINEAM', 'KARANGJAYA', 'MANONJAYA', 'GUNUNGTANJUNG',\n",
       "        'SINGAPARNA', 'SUKARAME', 'MANGUNREJA', 'CIGALONTANG', 'LEUWISARI',\n",
       "        'SARIWANGI', 'PADAKEMBANG', 'SUKARATU', 'CISAYONG', 'SUKAHENING',\n",
       "        'RAJAPOLAH', 'JAMANIS', 'CIAWI', 'KADIPATEN', 'PAGERAGEUNG',\n",
       "        'SUKARESIK'], dtype=object),\n",
       " 39)"
      ]
     },
     "execution_count": 540,
     "metadata": {},
     "output_type": "execute_result"
    }
   ],
   "source": [
    "add_category_df1['nama_kecamatan'].unique(), add_category_df1['nama_kecamatan'].nunique()"
   ]
  },
  {
   "cell_type": "code",
   "execution_count": 560,
   "id": "2a8fc1bc-0f7e-4304-a17a-51b0a31558f6",
   "metadata": {},
   "outputs": [
    {
     "name": "stdout",
     "output_type": "stream",
     "text": [
      "<class 'pandas.core.frame.DataFrame'>\n",
      "Index: 351 entries, 1 to 389\n",
      "Data columns (total 16 columns):\n",
      " #   Column                        Non-Null Count  Dtype \n",
      "---  ------                        --------------  ----- \n",
      " 0   nama_kecamatan                351 non-null    object\n",
      " 1   nama_desa                     351 non-null    object\n",
      " 2   kategori                      351 non-null    object\n",
      " 3   rumah_sakit                   351 non-null    int64 \n",
      " 4   rumah_sakit_bersalin          351 non-null    int64 \n",
      " 5   puskesmas_dengan_rawat_inap   351 non-null    int64 \n",
      " 6   puskesmas_tanpa_rawat_inap    351 non-null    int64 \n",
      " 7   pustu                         351 non-null    int64 \n",
      " 8   poliklinik/_balai_pengobatan  351 non-null    int64 \n",
      " 9   praktik_dokter                351 non-null    int64 \n",
      " 10  rumah_bersalin                351 non-null    int64 \n",
      " 11  praktik_bidan                 351 non-null    int64 \n",
      " 12  poskesdes                     351 non-null    int64 \n",
      " 13  polindes                      351 non-null    int64 \n",
      " 14  apotek                        351 non-null    int64 \n",
      " 15  toko_khusus_obat/jamu         351 non-null    int64 \n",
      "dtypes: int64(13), object(3)\n",
      "memory usage: 46.6+ KB\n"
     ]
    }
   ],
   "source": [
    "add_category_df1.info()"
   ]
  },
  {
   "cell_type": "markdown",
   "id": "96f1ef4f-3860-42e1-a2f2-0c47868f6920",
   "metadata": {
    "jp-MarkdownHeadingCollapsed": true
   },
   "source": [
    "### Sheet 2"
   ]
  },
  {
   "cell_type": "code",
   "execution_count": 541,
   "id": "ba1c3fb6-7a55-4839-a2a8-f5db33765a9b",
   "metadata": {},
   "outputs": [
    {
     "data": {
      "text/html": [
       "<div>\n",
       "<style scoped>\n",
       "    .dataframe tbody tr th:only-of-type {\n",
       "        vertical-align: middle;\n",
       "    }\n",
       "\n",
       "    .dataframe tbody tr th {\n",
       "        vertical-align: top;\n",
       "    }\n",
       "\n",
       "    .dataframe thead th {\n",
       "        text-align: right;\n",
       "    }\n",
       "</style>\n",
       "<table border=\"1\" class=\"dataframe\">\n",
       "  <thead>\n",
       "    <tr style=\"text-align: right;\">\n",
       "      <th></th>\n",
       "      <th>nama_kecamatan</th>\n",
       "      <th>nama_desa</th>\n",
       "      <th>kategori</th>\n",
       "      <th>jumlah_sls_terkecil</th>\n",
       "      <th>unnamed:_2</th>\n",
       "      <th>unnamed:_3</th>\n",
       "      <th>unnamed:_4</th>\n",
       "      <th>unnamed:_5</th>\n",
       "    </tr>\n",
       "  </thead>\n",
       "  <tbody>\n",
       "    <tr>\n",
       "      <th>1</th>\n",
       "      <td>CIPATUJAH</td>\n",
       "      <td>BANTARKALONG</td>\n",
       "      <td>jumlah_sls</td>\n",
       "      <td>25</td>\n",
       "      <td>NaN</td>\n",
       "      <td>NaN</td>\n",
       "      <td>NaN</td>\n",
       "      <td>NaN</td>\n",
       "    </tr>\n",
       "    <tr>\n",
       "      <th>2</th>\n",
       "      <td>CIPATUJAH</td>\n",
       "      <td>CIANDUM</td>\n",
       "      <td>jumlah_sls</td>\n",
       "      <td>35</td>\n",
       "      <td>NaN</td>\n",
       "      <td>NaN</td>\n",
       "      <td>NaN</td>\n",
       "      <td>NaN</td>\n",
       "    </tr>\n",
       "    <tr>\n",
       "      <th>3</th>\n",
       "      <td>CIPATUJAH</td>\n",
       "      <td>CIHERAS</td>\n",
       "      <td>jumlah_sls</td>\n",
       "      <td>42</td>\n",
       "      <td>NaN</td>\n",
       "      <td>NaN</td>\n",
       "      <td>NaN</td>\n",
       "      <td>NaN</td>\n",
       "    </tr>\n",
       "  </tbody>\n",
       "</table>\n",
       "</div>"
      ],
      "text/plain": [
       "  nama_kecamatan     nama_desa    kategori  jumlah_sls_terkecil  unnamed:_2  \\\n",
       "1      CIPATUJAH  BANTARKALONG  jumlah_sls                   25         NaN   \n",
       "2      CIPATUJAH       CIANDUM  jumlah_sls                   35         NaN   \n",
       "3      CIPATUJAH       CIHERAS  jumlah_sls                   42         NaN   \n",
       "\n",
       "   unnamed:_3 unnamed:_4 unnamed:_5  \n",
       "1         NaN        NaN        NaN  \n",
       "2         NaN        NaN        NaN  \n",
       "3         NaN        NaN        NaN  "
      ]
     },
     "execution_count": 541,
     "metadata": {},
     "output_type": "execute_result"
    }
   ],
   "source": [
    "add_category_df2.head(3)"
   ]
  },
  {
   "cell_type": "code",
   "execution_count": 542,
   "id": "c57fa32a-e823-497c-803f-53fd2502f96e",
   "metadata": {},
   "outputs": [
    {
     "data": {
      "text/plain": [
       "nama_kecamatan           0\n",
       "nama_desa                0\n",
       "kategori                 0\n",
       "jumlah_sls_terkecil      0\n",
       "unnamed:_2             351\n",
       "unnamed:_3             351\n",
       "unnamed:_4             350\n",
       "unnamed:_5             350\n",
       "dtype: int64"
      ]
     },
     "execution_count": 542,
     "metadata": {},
     "output_type": "execute_result"
    }
   ],
   "source": [
    "add_category_df2.isna().sum()"
   ]
  },
  {
   "cell_type": "code",
   "execution_count": 543,
   "id": "f21109a7-5eec-4cbe-a2e3-ba0e9ce76783",
   "metadata": {},
   "outputs": [],
   "source": [
    "add_category_df2 = add_category_df2.dropna(axis=1)"
   ]
  },
  {
   "cell_type": "code",
   "execution_count": 556,
   "id": "23742511-558d-4334-b909-3b6187936406",
   "metadata": {},
   "outputs": [
    {
     "data": {
      "text/html": [
       "<div>\n",
       "<style scoped>\n",
       "    .dataframe tbody tr th:only-of-type {\n",
       "        vertical-align: middle;\n",
       "    }\n",
       "\n",
       "    .dataframe tbody tr th {\n",
       "        vertical-align: top;\n",
       "    }\n",
       "\n",
       "    .dataframe thead th {\n",
       "        text-align: right;\n",
       "    }\n",
       "</style>\n",
       "<table border=\"1\" class=\"dataframe\">\n",
       "  <thead>\n",
       "    <tr style=\"text-align: right;\">\n",
       "      <th></th>\n",
       "      <th>nama_kecamatan</th>\n",
       "      <th>nama_desa</th>\n",
       "      <th>kategori</th>\n",
       "      <th>jumlah_sls_terkecil</th>\n",
       "    </tr>\n",
       "  </thead>\n",
       "  <tbody>\n",
       "    <tr>\n",
       "      <th>1</th>\n",
       "      <td>CIPATUJAH</td>\n",
       "      <td>BANTARKALONG</td>\n",
       "      <td>jumlah_sls</td>\n",
       "      <td>25</td>\n",
       "    </tr>\n",
       "    <tr>\n",
       "      <th>2</th>\n",
       "      <td>CIPATUJAH</td>\n",
       "      <td>CIANDUM</td>\n",
       "      <td>jumlah_sls</td>\n",
       "      <td>35</td>\n",
       "    </tr>\n",
       "    <tr>\n",
       "      <th>3</th>\n",
       "      <td>CIPATUJAH</td>\n",
       "      <td>CIHERAS</td>\n",
       "      <td>jumlah_sls</td>\n",
       "      <td>42</td>\n",
       "    </tr>\n",
       "  </tbody>\n",
       "</table>\n",
       "</div>"
      ],
      "text/plain": [
       "  nama_kecamatan     nama_desa    kategori  jumlah_sls_terkecil\n",
       "1      CIPATUJAH  BANTARKALONG  jumlah_sls                   25\n",
       "2      CIPATUJAH       CIANDUM  jumlah_sls                   35\n",
       "3      CIPATUJAH       CIHERAS  jumlah_sls                   42"
      ]
     },
     "execution_count": 556,
     "metadata": {},
     "output_type": "execute_result"
    }
   ],
   "source": [
    "add_category_df2.head(3)"
   ]
  },
  {
   "cell_type": "code",
   "execution_count": 561,
   "id": "f77b4ddb-7cfd-4497-9eca-09a175b88815",
   "metadata": {},
   "outputs": [
    {
     "name": "stdout",
     "output_type": "stream",
     "text": [
      "<class 'pandas.core.frame.DataFrame'>\n",
      "Index: 351 entries, 1 to 389\n",
      "Data columns (total 4 columns):\n",
      " #   Column               Non-Null Count  Dtype \n",
      "---  ------               --------------  ----- \n",
      " 0   nama_kecamatan       351 non-null    object\n",
      " 1   nama_desa            351 non-null    object\n",
      " 2   kategori             351 non-null    object\n",
      " 3   jumlah_sls_terkecil  351 non-null    int64 \n",
      "dtypes: int64(1), object(3)\n",
      "memory usage: 13.7+ KB\n"
     ]
    }
   ],
   "source": [
    "add_category_df2.info()"
   ]
  },
  {
   "cell_type": "markdown",
   "id": "aeac3c9b-5627-4937-b181-2caa7f2e18f8",
   "metadata": {
    "jp-MarkdownHeadingCollapsed": true
   },
   "source": [
    "### Sheet 3"
   ]
  },
  {
   "cell_type": "code",
   "execution_count": 557,
   "id": "d2f7f303-f8f0-4197-a62d-6478d523b66a",
   "metadata": {},
   "outputs": [
    {
     "data": {
      "text/html": [
       "<div>\n",
       "<style scoped>\n",
       "    .dataframe tbody tr th:only-of-type {\n",
       "        vertical-align: middle;\n",
       "    }\n",
       "\n",
       "    .dataframe tbody tr th {\n",
       "        vertical-align: top;\n",
       "    }\n",
       "\n",
       "    .dataframe thead th {\n",
       "        text-align: right;\n",
       "    }\n",
       "</style>\n",
       "<table border=\"1\" class=\"dataframe\">\n",
       "  <thead>\n",
       "    <tr style=\"text-align: right;\">\n",
       "      <th></th>\n",
       "      <th>nama_kecamatan</th>\n",
       "      <th>nama_desa</th>\n",
       "      <th>kategori</th>\n",
       "      <th>muntaber/diare</th>\n",
       "      <th>demam_berdarah</th>\n",
       "      <th>campak</th>\n",
       "      <th>malaria</th>\n",
       "      <th>flu_burung/_sars</th>\n",
       "      <th>hepatitis_e</th>\n",
       "      <th>difteri</th>\n",
       "      <th>corona/_covid-19</th>\n",
       "      <th>kerawanan_pangan</th>\n",
       "      <th>lainnya</th>\n",
       "    </tr>\n",
       "  </thead>\n",
       "  <tbody>\n",
       "    <tr>\n",
       "      <th>1</th>\n",
       "      <td>CIPATUJAH</td>\n",
       "      <td>BANTARKALONG</td>\n",
       "      <td>wabah_penyakit</td>\n",
       "      <td>0</td>\n",
       "      <td>0</td>\n",
       "      <td>0</td>\n",
       "      <td>0</td>\n",
       "      <td>0</td>\n",
       "      <td>0</td>\n",
       "      <td>0</td>\n",
       "      <td>1</td>\n",
       "      <td>0</td>\n",
       "      <td>0</td>\n",
       "    </tr>\n",
       "    <tr>\n",
       "      <th>2</th>\n",
       "      <td>CIPATUJAH</td>\n",
       "      <td>CIANDUM</td>\n",
       "      <td>wabah_penyakit</td>\n",
       "      <td>0</td>\n",
       "      <td>0</td>\n",
       "      <td>0</td>\n",
       "      <td>0</td>\n",
       "      <td>0</td>\n",
       "      <td>0</td>\n",
       "      <td>0</td>\n",
       "      <td>0</td>\n",
       "      <td>0</td>\n",
       "      <td>0</td>\n",
       "    </tr>\n",
       "    <tr>\n",
       "      <th>3</th>\n",
       "      <td>CIPATUJAH</td>\n",
       "      <td>CIHERAS</td>\n",
       "      <td>wabah_penyakit</td>\n",
       "      <td>0</td>\n",
       "      <td>0</td>\n",
       "      <td>0</td>\n",
       "      <td>0</td>\n",
       "      <td>0</td>\n",
       "      <td>0</td>\n",
       "      <td>0</td>\n",
       "      <td>2</td>\n",
       "      <td>0</td>\n",
       "      <td>0</td>\n",
       "    </tr>\n",
       "    <tr>\n",
       "      <th>4</th>\n",
       "      <td>CIPATUJAH</td>\n",
       "      <td>CIKAWUNGADING</td>\n",
       "      <td>wabah_penyakit</td>\n",
       "      <td>0</td>\n",
       "      <td>0</td>\n",
       "      <td>0</td>\n",
       "      <td>0</td>\n",
       "      <td>0</td>\n",
       "      <td>0</td>\n",
       "      <td>0</td>\n",
       "      <td>0</td>\n",
       "      <td>0</td>\n",
       "      <td>0</td>\n",
       "    </tr>\n",
       "    <tr>\n",
       "      <th>5</th>\n",
       "      <td>CIPATUJAH</td>\n",
       "      <td>CIPANAS</td>\n",
       "      <td>wabah_penyakit</td>\n",
       "      <td>0</td>\n",
       "      <td>0</td>\n",
       "      <td>0</td>\n",
       "      <td>0</td>\n",
       "      <td>0</td>\n",
       "      <td>0</td>\n",
       "      <td>0</td>\n",
       "      <td>3</td>\n",
       "      <td>0</td>\n",
       "      <td>0</td>\n",
       "    </tr>\n",
       "  </tbody>\n",
       "</table>\n",
       "</div>"
      ],
      "text/plain": [
       "  nama_kecamatan      nama_desa        kategori  muntaber/diare  \\\n",
       "1      CIPATUJAH   BANTARKALONG  wabah_penyakit               0   \n",
       "2      CIPATUJAH        CIANDUM  wabah_penyakit               0   \n",
       "3      CIPATUJAH        CIHERAS  wabah_penyakit               0   \n",
       "4      CIPATUJAH  CIKAWUNGADING  wabah_penyakit               0   \n",
       "5      CIPATUJAH        CIPANAS  wabah_penyakit               0   \n",
       "\n",
       "   demam_berdarah  campak  malaria  flu_burung/_sars  hepatitis_e  difteri  \\\n",
       "1               0       0        0                 0            0        0   \n",
       "2               0       0        0                 0            0        0   \n",
       "3               0       0        0                 0            0        0   \n",
       "4               0       0        0                 0            0        0   \n",
       "5               0       0        0                 0            0        0   \n",
       "\n",
       "   corona/_covid-19  kerawanan_pangan  lainnya  \n",
       "1                 1                 0        0  \n",
       "2                 0                 0        0  \n",
       "3                 2                 0        0  \n",
       "4                 0                 0        0  \n",
       "5                 3                 0        0  "
      ]
     },
     "execution_count": 557,
     "metadata": {},
     "output_type": "execute_result"
    }
   ],
   "source": [
    "add_category_df3.head()"
   ]
  },
  {
   "cell_type": "code",
   "execution_count": 562,
   "id": "12807dca-6b57-4c27-b657-6338e621bc84",
   "metadata": {},
   "outputs": [
    {
     "data": {
      "text/plain": [
       "nama_kecamatan      0\n",
       "nama_desa           0\n",
       "kategori            0\n",
       "muntaber/diare      0\n",
       "demam_berdarah      0\n",
       "campak              0\n",
       "malaria             0\n",
       "flu_burung/_sars    0\n",
       "hepatitis_e         0\n",
       "difteri             0\n",
       "corona/_covid-19    0\n",
       "kerawanan_pangan    0\n",
       "lainnya             0\n",
       "dtype: int64"
      ]
     },
     "execution_count": 562,
     "metadata": {},
     "output_type": "execute_result"
    }
   ],
   "source": [
    "add_category_df3.isna().sum()"
   ]
  },
  {
   "cell_type": "code",
   "execution_count": 563,
   "id": "911fcbc2-400a-47d5-a8a3-8f0f5570b2cb",
   "metadata": {},
   "outputs": [
    {
     "name": "stdout",
     "output_type": "stream",
     "text": [
      "<class 'pandas.core.frame.DataFrame'>\n",
      "Index: 351 entries, 1 to 389\n",
      "Data columns (total 13 columns):\n",
      " #   Column            Non-Null Count  Dtype \n",
      "---  ------            --------------  ----- \n",
      " 0   nama_kecamatan    351 non-null    object\n",
      " 1   nama_desa         351 non-null    object\n",
      " 2   kategori          351 non-null    object\n",
      " 3   muntaber/diare    351 non-null    int64 \n",
      " 4   demam_berdarah    351 non-null    int64 \n",
      " 5   campak            351 non-null    int64 \n",
      " 6   malaria           351 non-null    int64 \n",
      " 7   flu_burung/_sars  351 non-null    int64 \n",
      " 8   hepatitis_e       351 non-null    int64 \n",
      " 9   difteri           351 non-null    int64 \n",
      " 10  corona/_covid-19  351 non-null    int64 \n",
      " 11  kerawanan_pangan  351 non-null    int64 \n",
      " 12  lainnya           351 non-null    int64 \n",
      "dtypes: int64(10), object(3)\n",
      "memory usage: 38.4+ KB\n"
     ]
    }
   ],
   "source": [
    "add_category_df3.info()"
   ]
  },
  {
   "cell_type": "markdown",
   "id": "3765bc24-dfd0-449b-bf61-f214d2ac10d5",
   "metadata": {
    "jp-MarkdownHeadingCollapsed": true
   },
   "source": [
    "### Sheet 4"
   ]
  },
  {
   "cell_type": "code",
   "execution_count": 566,
   "id": "5f0bc6bc-a34f-41fa-bdd3-24186a119fce",
   "metadata": {},
   "outputs": [
    {
     "data": {
      "text/html": [
       "<div>\n",
       "<style scoped>\n",
       "    .dataframe tbody tr th:only-of-type {\n",
       "        vertical-align: middle;\n",
       "    }\n",
       "\n",
       "    .dataframe tbody tr th {\n",
       "        vertical-align: top;\n",
       "    }\n",
       "\n",
       "    .dataframe thead th {\n",
       "        text-align: right;\n",
       "    }\n",
       "</style>\n",
       "<table border=\"1\" class=\"dataframe\">\n",
       "  <thead>\n",
       "    <tr style=\"text-align: right;\">\n",
       "      <th></th>\n",
       "      <th>nama_kecamatan</th>\n",
       "      <th>nama_desa</th>\n",
       "      <th>kategori</th>\n",
       "      <th>muntaber/diare</th>\n",
       "      <th>demam_berdarah</th>\n",
       "      <th>campak</th>\n",
       "      <th>malaria</th>\n",
       "      <th>flu_burung/_sars</th>\n",
       "      <th>hepatitis_e</th>\n",
       "      <th>difteri</th>\n",
       "      <th>corona/_covid-19</th>\n",
       "      <th>kerawanan_pangan</th>\n",
       "      <th>lainnya</th>\n",
       "    </tr>\n",
       "  </thead>\n",
       "  <tbody>\n",
       "    <tr>\n",
       "      <th>1</th>\n",
       "      <td>CIPATUJAH</td>\n",
       "      <td>BANTARKALONG</td>\n",
       "      <td>wabah_meninggal</td>\n",
       "      <td>0</td>\n",
       "      <td>0.0</td>\n",
       "      <td>0.0</td>\n",
       "      <td>0.0</td>\n",
       "      <td>0.0</td>\n",
       "      <td>0.0</td>\n",
       "      <td>0.0</td>\n",
       "      <td>0.0</td>\n",
       "      <td>0.0</td>\n",
       "      <td>0.0</td>\n",
       "    </tr>\n",
       "    <tr>\n",
       "      <th>2</th>\n",
       "      <td>CIPATUJAH</td>\n",
       "      <td>CIANDUM</td>\n",
       "      <td>wabah_meninggal</td>\n",
       "      <td>0</td>\n",
       "      <td>0.0</td>\n",
       "      <td>0.0</td>\n",
       "      <td>0.0</td>\n",
       "      <td>0.0</td>\n",
       "      <td>0.0</td>\n",
       "      <td>0.0</td>\n",
       "      <td>0.0</td>\n",
       "      <td>0.0</td>\n",
       "      <td>0.0</td>\n",
       "    </tr>\n",
       "    <tr>\n",
       "      <th>3</th>\n",
       "      <td>CIPATUJAH</td>\n",
       "      <td>CIHERAS</td>\n",
       "      <td>wabah_meninggal</td>\n",
       "      <td>0</td>\n",
       "      <td>0.0</td>\n",
       "      <td>0.0</td>\n",
       "      <td>0.0</td>\n",
       "      <td>0.0</td>\n",
       "      <td>0.0</td>\n",
       "      <td>0.0</td>\n",
       "      <td>0.0</td>\n",
       "      <td>0.0</td>\n",
       "      <td>0.0</td>\n",
       "    </tr>\n",
       "    <tr>\n",
       "      <th>4</th>\n",
       "      <td>CIPATUJAH</td>\n",
       "      <td>CIKAWUNGADING</td>\n",
       "      <td>wabah_meninggal</td>\n",
       "      <td>0</td>\n",
       "      <td>0.0</td>\n",
       "      <td>0.0</td>\n",
       "      <td>0.0</td>\n",
       "      <td>0.0</td>\n",
       "      <td>0.0</td>\n",
       "      <td>0.0</td>\n",
       "      <td>0.0</td>\n",
       "      <td>0.0</td>\n",
       "      <td>0.0</td>\n",
       "    </tr>\n",
       "    <tr>\n",
       "      <th>5</th>\n",
       "      <td>CIPATUJAH</td>\n",
       "      <td>CIPANAS</td>\n",
       "      <td>wabah_meninggal</td>\n",
       "      <td>0</td>\n",
       "      <td>0.0</td>\n",
       "      <td>0.0</td>\n",
       "      <td>0.0</td>\n",
       "      <td>0.0</td>\n",
       "      <td>0.0</td>\n",
       "      <td>0.0</td>\n",
       "      <td>0.0</td>\n",
       "      <td>0.0</td>\n",
       "      <td>0.0</td>\n",
       "    </tr>\n",
       "  </tbody>\n",
       "</table>\n",
       "</div>"
      ],
      "text/plain": [
       "  nama_kecamatan      nama_desa         kategori muntaber/diare  \\\n",
       "1      CIPATUJAH   BANTARKALONG  wabah_meninggal              0   \n",
       "2      CIPATUJAH        CIANDUM  wabah_meninggal              0   \n",
       "3      CIPATUJAH        CIHERAS  wabah_meninggal              0   \n",
       "4      CIPATUJAH  CIKAWUNGADING  wabah_meninggal              0   \n",
       "5      CIPATUJAH        CIPANAS  wabah_meninggal              0   \n",
       "\n",
       "   demam_berdarah  campak  malaria  flu_burung/_sars  hepatitis_e  difteri  \\\n",
       "1             0.0     0.0      0.0               0.0          0.0      0.0   \n",
       "2             0.0     0.0      0.0               0.0          0.0      0.0   \n",
       "3             0.0     0.0      0.0               0.0          0.0      0.0   \n",
       "4             0.0     0.0      0.0               0.0          0.0      0.0   \n",
       "5             0.0     0.0      0.0               0.0          0.0      0.0   \n",
       "\n",
       "   corona/_covid-19  kerawanan_pangan  lainnya  \n",
       "1               0.0               0.0      0.0  \n",
       "2               0.0               0.0      0.0  \n",
       "3               0.0               0.0      0.0  \n",
       "4               0.0               0.0      0.0  \n",
       "5               0.0               0.0      0.0  "
      ]
     },
     "execution_count": 566,
     "metadata": {},
     "output_type": "execute_result"
    }
   ],
   "source": [
    "add_category_df4.head()"
   ]
  },
  {
   "cell_type": "code",
   "execution_count": 567,
   "id": "67b7f8c4-31cd-473e-9c0a-2313a91839d4",
   "metadata": {},
   "outputs": [
    {
     "data": {
      "text/plain": [
       "nama_kecamatan      0\n",
       "nama_desa           0\n",
       "kategori            0\n",
       "muntaber/diare      0\n",
       "demam_berdarah      0\n",
       "campak              0\n",
       "malaria             0\n",
       "flu_burung/_sars    0\n",
       "hepatitis_e         0\n",
       "difteri             0\n",
       "corona/_covid-19    0\n",
       "kerawanan_pangan    0\n",
       "lainnya             0\n",
       "dtype: int64"
      ]
     },
     "execution_count": 567,
     "metadata": {},
     "output_type": "execute_result"
    }
   ],
   "source": [
    "add_category_df4.isna().sum()"
   ]
  },
  {
   "cell_type": "code",
   "execution_count": 545,
   "id": "ecbb282d-b63b-482c-a177-f080677367b3",
   "metadata": {},
   "outputs": [
    {
     "name": "stdout",
     "output_type": "stream",
     "text": [
      "<class 'pandas.core.frame.DataFrame'>\n",
      "Index: 351 entries, 1 to 389\n",
      "Data columns (total 13 columns):\n",
      " #   Column            Non-Null Count  Dtype  \n",
      "---  ------            --------------  -----  \n",
      " 0   nama_kecamatan    351 non-null    object \n",
      " 1   nama_desa         351 non-null    object \n",
      " 2   kategori          351 non-null    object \n",
      " 3   muntaber/diare    351 non-null    object \n",
      " 4   demam_berdarah    351 non-null    float64\n",
      " 5   campak            351 non-null    float64\n",
      " 6   malaria           351 non-null    float64\n",
      " 7   flu_burung/_sars  351 non-null    float64\n",
      " 8   hepatitis_e       351 non-null    float64\n",
      " 9   difteri           351 non-null    float64\n",
      " 10  corona/_covid-19  351 non-null    float64\n",
      " 11  kerawanan_pangan  351 non-null    float64\n",
      " 12  lainnya           351 non-null    float64\n",
      "dtypes: float64(9), object(4)\n",
      "memory usage: 38.4+ KB\n"
     ]
    }
   ],
   "source": [
    "add_category_df4.info()"
   ]
  },
  {
   "cell_type": "code",
   "execution_count": 573,
   "id": "74e20c64-5e21-4a5d-a6a2-2a3c4055081f",
   "metadata": {},
   "outputs": [],
   "source": [
    "add_category_df4 = change_to_int(add_category_df4)"
   ]
  },
  {
   "cell_type": "code",
   "execution_count": 574,
   "id": "9df4701b-b3e6-4520-b606-c5926f89ecd9",
   "metadata": {},
   "outputs": [
    {
     "name": "stdout",
     "output_type": "stream",
     "text": [
      "<class 'pandas.core.frame.DataFrame'>\n",
      "Index: 351 entries, 1 to 389\n",
      "Data columns (total 13 columns):\n",
      " #   Column            Non-Null Count  Dtype \n",
      "---  ------            --------------  ----- \n",
      " 0   nama_kecamatan    351 non-null    object\n",
      " 1   nama_desa         351 non-null    object\n",
      " 2   kategori          351 non-null    object\n",
      " 3   muntaber/diare    351 non-null    int64 \n",
      " 4   demam_berdarah    351 non-null    int64 \n",
      " 5   campak            351 non-null    int64 \n",
      " 6   malaria           351 non-null    int64 \n",
      " 7   flu_burung/_sars  351 non-null    int64 \n",
      " 8   hepatitis_e       351 non-null    int64 \n",
      " 9   difteri           351 non-null    int64 \n",
      " 10  corona/_covid-19  351 non-null    int64 \n",
      " 11  kerawanan_pangan  351 non-null    int64 \n",
      " 12  lainnya           351 non-null    int64 \n",
      "dtypes: int64(10), object(3)\n",
      "memory usage: 38.4+ KB\n"
     ]
    }
   ],
   "source": [
    "add_category_df4.info()"
   ]
  },
  {
   "cell_type": "code",
   "execution_count": 575,
   "id": "11a61713-e636-4e80-85e2-d1a7601217f0",
   "metadata": {},
   "outputs": [
    {
     "data": {
      "text/html": [
       "<div>\n",
       "<style scoped>\n",
       "    .dataframe tbody tr th:only-of-type {\n",
       "        vertical-align: middle;\n",
       "    }\n",
       "\n",
       "    .dataframe tbody tr th {\n",
       "        vertical-align: top;\n",
       "    }\n",
       "\n",
       "    .dataframe thead th {\n",
       "        text-align: right;\n",
       "    }\n",
       "</style>\n",
       "<table border=\"1\" class=\"dataframe\">\n",
       "  <thead>\n",
       "    <tr style=\"text-align: right;\">\n",
       "      <th></th>\n",
       "      <th>nama_kecamatan</th>\n",
       "      <th>nama_desa</th>\n",
       "      <th>kategori</th>\n",
       "      <th>muntaber/diare</th>\n",
       "      <th>demam_berdarah</th>\n",
       "      <th>campak</th>\n",
       "      <th>malaria</th>\n",
       "      <th>flu_burung/_sars</th>\n",
       "      <th>hepatitis_e</th>\n",
       "      <th>difteri</th>\n",
       "      <th>corona/_covid-19</th>\n",
       "      <th>kerawanan_pangan</th>\n",
       "      <th>lainnya</th>\n",
       "    </tr>\n",
       "  </thead>\n",
       "  <tbody>\n",
       "    <tr>\n",
       "      <th>1</th>\n",
       "      <td>CIPATUJAH</td>\n",
       "      <td>BANTARKALONG</td>\n",
       "      <td>wabah_meninggal</td>\n",
       "      <td>0</td>\n",
       "      <td>0</td>\n",
       "      <td>0</td>\n",
       "      <td>0</td>\n",
       "      <td>0</td>\n",
       "      <td>0</td>\n",
       "      <td>0</td>\n",
       "      <td>0</td>\n",
       "      <td>0</td>\n",
       "      <td>0</td>\n",
       "    </tr>\n",
       "    <tr>\n",
       "      <th>2</th>\n",
       "      <td>CIPATUJAH</td>\n",
       "      <td>CIANDUM</td>\n",
       "      <td>wabah_meninggal</td>\n",
       "      <td>0</td>\n",
       "      <td>0</td>\n",
       "      <td>0</td>\n",
       "      <td>0</td>\n",
       "      <td>0</td>\n",
       "      <td>0</td>\n",
       "      <td>0</td>\n",
       "      <td>0</td>\n",
       "      <td>0</td>\n",
       "      <td>0</td>\n",
       "    </tr>\n",
       "    <tr>\n",
       "      <th>3</th>\n",
       "      <td>CIPATUJAH</td>\n",
       "      <td>CIHERAS</td>\n",
       "      <td>wabah_meninggal</td>\n",
       "      <td>0</td>\n",
       "      <td>0</td>\n",
       "      <td>0</td>\n",
       "      <td>0</td>\n",
       "      <td>0</td>\n",
       "      <td>0</td>\n",
       "      <td>0</td>\n",
       "      <td>0</td>\n",
       "      <td>0</td>\n",
       "      <td>0</td>\n",
       "    </tr>\n",
       "    <tr>\n",
       "      <th>4</th>\n",
       "      <td>CIPATUJAH</td>\n",
       "      <td>CIKAWUNGADING</td>\n",
       "      <td>wabah_meninggal</td>\n",
       "      <td>0</td>\n",
       "      <td>0</td>\n",
       "      <td>0</td>\n",
       "      <td>0</td>\n",
       "      <td>0</td>\n",
       "      <td>0</td>\n",
       "      <td>0</td>\n",
       "      <td>0</td>\n",
       "      <td>0</td>\n",
       "      <td>0</td>\n",
       "    </tr>\n",
       "    <tr>\n",
       "      <th>5</th>\n",
       "      <td>CIPATUJAH</td>\n",
       "      <td>CIPANAS</td>\n",
       "      <td>wabah_meninggal</td>\n",
       "      <td>0</td>\n",
       "      <td>0</td>\n",
       "      <td>0</td>\n",
       "      <td>0</td>\n",
       "      <td>0</td>\n",
       "      <td>0</td>\n",
       "      <td>0</td>\n",
       "      <td>0</td>\n",
       "      <td>0</td>\n",
       "      <td>0</td>\n",
       "    </tr>\n",
       "  </tbody>\n",
       "</table>\n",
       "</div>"
      ],
      "text/plain": [
       "  nama_kecamatan      nama_desa         kategori  muntaber/diare  \\\n",
       "1      CIPATUJAH   BANTARKALONG  wabah_meninggal               0   \n",
       "2      CIPATUJAH        CIANDUM  wabah_meninggal               0   \n",
       "3      CIPATUJAH        CIHERAS  wabah_meninggal               0   \n",
       "4      CIPATUJAH  CIKAWUNGADING  wabah_meninggal               0   \n",
       "5      CIPATUJAH        CIPANAS  wabah_meninggal               0   \n",
       "\n",
       "   demam_berdarah  campak  malaria  flu_burung/_sars  hepatitis_e  difteri  \\\n",
       "1               0       0        0                 0            0        0   \n",
       "2               0       0        0                 0            0        0   \n",
       "3               0       0        0                 0            0        0   \n",
       "4               0       0        0                 0            0        0   \n",
       "5               0       0        0                 0            0        0   \n",
       "\n",
       "   corona/_covid-19  kerawanan_pangan  lainnya  \n",
       "1                 0                 0        0  \n",
       "2                 0                 0        0  \n",
       "3                 0                 0        0  \n",
       "4                 0                 0        0  \n",
       "5                 0                 0        0  "
      ]
     },
     "execution_count": 575,
     "metadata": {},
     "output_type": "execute_result"
    }
   ],
   "source": [
    "add_category_df4.head()"
   ]
  },
  {
   "cell_type": "markdown",
   "id": "9980500c-b4c3-40f8-83d9-dcf20f5ee07c",
   "metadata": {
    "jp-MarkdownHeadingCollapsed": true
   },
   "source": [
    "### Sheet 5"
   ]
  },
  {
   "cell_type": "code",
   "execution_count": 576,
   "id": "686014ce-e323-4f09-bdfc-8dee1161d783",
   "metadata": {},
   "outputs": [
    {
     "data": {
      "text/html": [
       "<div>\n",
       "<style scoped>\n",
       "    .dataframe tbody tr th:only-of-type {\n",
       "        vertical-align: middle;\n",
       "    }\n",
       "\n",
       "    .dataframe tbody tr th {\n",
       "        vertical-align: top;\n",
       "    }\n",
       "\n",
       "    .dataframe thead th {\n",
       "        text-align: right;\n",
       "    }\n",
       "</style>\n",
       "<table border=\"1\" class=\"dataframe\">\n",
       "  <thead>\n",
       "    <tr style=\"text-align: right;\">\n",
       "      <th></th>\n",
       "      <th>nama_kecamatan</th>\n",
       "      <th>nama_desa</th>\n",
       "      <th>kategori</th>\n",
       "      <th>masjid</th>\n",
       "      <th>surau/_langgar/_mushola</th>\n",
       "      <th>gereja_kristen</th>\n",
       "      <th>gereja_katolik</th>\n",
       "      <th>kapel</th>\n",
       "      <th>pura</th>\n",
       "      <th>wihara</th>\n",
       "      <th>kelenteng</th>\n",
       "      <th>balai_basarah</th>\n",
       "      <th>lainnya</th>\n",
       "    </tr>\n",
       "  </thead>\n",
       "  <tbody>\n",
       "    <tr>\n",
       "      <th>1</th>\n",
       "      <td>CIPATUJAH</td>\n",
       "      <td>BANTARKALONG</td>\n",
       "      <td>tempat_ibadah</td>\n",
       "      <td>8</td>\n",
       "      <td>25</td>\n",
       "      <td>0</td>\n",
       "      <td>0</td>\n",
       "      <td>0</td>\n",
       "      <td>0</td>\n",
       "      <td>0</td>\n",
       "      <td>0</td>\n",
       "      <td>0</td>\n",
       "      <td>0</td>\n",
       "    </tr>\n",
       "    <tr>\n",
       "      <th>2</th>\n",
       "      <td>CIPATUJAH</td>\n",
       "      <td>CIANDUM</td>\n",
       "      <td>tempat_ibadah</td>\n",
       "      <td>16</td>\n",
       "      <td>35</td>\n",
       "      <td>0</td>\n",
       "      <td>0</td>\n",
       "      <td>0</td>\n",
       "      <td>0</td>\n",
       "      <td>0</td>\n",
       "      <td>0</td>\n",
       "      <td>0</td>\n",
       "      <td>0</td>\n",
       "    </tr>\n",
       "    <tr>\n",
       "      <th>3</th>\n",
       "      <td>CIPATUJAH</td>\n",
       "      <td>CIHERAS</td>\n",
       "      <td>tempat_ibadah</td>\n",
       "      <td>10</td>\n",
       "      <td>32</td>\n",
       "      <td>0</td>\n",
       "      <td>0</td>\n",
       "      <td>0</td>\n",
       "      <td>0</td>\n",
       "      <td>0</td>\n",
       "      <td>0</td>\n",
       "      <td>0</td>\n",
       "      <td>0</td>\n",
       "    </tr>\n",
       "    <tr>\n",
       "      <th>4</th>\n",
       "      <td>CIPATUJAH</td>\n",
       "      <td>CIKAWUNGADING</td>\n",
       "      <td>tempat_ibadah</td>\n",
       "      <td>22</td>\n",
       "      <td>55</td>\n",
       "      <td>1</td>\n",
       "      <td>0</td>\n",
       "      <td>0</td>\n",
       "      <td>0</td>\n",
       "      <td>0</td>\n",
       "      <td>0</td>\n",
       "      <td>0</td>\n",
       "      <td>0</td>\n",
       "    </tr>\n",
       "    <tr>\n",
       "      <th>5</th>\n",
       "      <td>CIPATUJAH</td>\n",
       "      <td>CIPANAS</td>\n",
       "      <td>tempat_ibadah</td>\n",
       "      <td>10</td>\n",
       "      <td>22</td>\n",
       "      <td>1</td>\n",
       "      <td>0</td>\n",
       "      <td>0</td>\n",
       "      <td>0</td>\n",
       "      <td>0</td>\n",
       "      <td>0</td>\n",
       "      <td>0</td>\n",
       "      <td>0</td>\n",
       "    </tr>\n",
       "  </tbody>\n",
       "</table>\n",
       "</div>"
      ],
      "text/plain": [
       "  nama_kecamatan      nama_desa       kategori  masjid  \\\n",
       "1      CIPATUJAH   BANTARKALONG  tempat_ibadah       8   \n",
       "2      CIPATUJAH        CIANDUM  tempat_ibadah      16   \n",
       "3      CIPATUJAH        CIHERAS  tempat_ibadah      10   \n",
       "4      CIPATUJAH  CIKAWUNGADING  tempat_ibadah      22   \n",
       "5      CIPATUJAH        CIPANAS  tempat_ibadah      10   \n",
       "\n",
       "   surau/_langgar/_mushola  gereja_kristen  gereja_katolik  kapel  pura  \\\n",
       "1                       25               0               0      0     0   \n",
       "2                       35               0               0      0     0   \n",
       "3                       32               0               0      0     0   \n",
       "4                       55               1               0      0     0   \n",
       "5                       22               1               0      0     0   \n",
       "\n",
       "   wihara  kelenteng  balai_basarah  lainnya  \n",
       "1       0          0              0        0  \n",
       "2       0          0              0        0  \n",
       "3       0          0              0        0  \n",
       "4       0          0              0        0  \n",
       "5       0          0              0        0  "
      ]
     },
     "execution_count": 576,
     "metadata": {},
     "output_type": "execute_result"
    }
   ],
   "source": [
    "add_category_df5.head()"
   ]
  },
  {
   "cell_type": "code",
   "execution_count": 580,
   "id": "972bfaa5-04ad-47ae-8505-9d0c042c1aa7",
   "metadata": {},
   "outputs": [
    {
     "data": {
      "text/plain": [
       "nama_kecamatan      0\n",
       "nama_desa           0\n",
       "kategori            0\n",
       "muntaber/diare      0\n",
       "demam_berdarah      0\n",
       "campak              0\n",
       "malaria             0\n",
       "flu_burung/_sars    0\n",
       "hepatitis_e         0\n",
       "difteri             0\n",
       "corona/_covid-19    0\n",
       "kerawanan_pangan    0\n",
       "lainnya             0\n",
       "dtype: int64"
      ]
     },
     "execution_count": 580,
     "metadata": {},
     "output_type": "execute_result"
    }
   ],
   "source": [
    "add_category_df4.isna().sum()"
   ]
  },
  {
   "cell_type": "code",
   "execution_count": 579,
   "id": "828c58e3-c276-48f0-9f9c-b71bacbd9fa6",
   "metadata": {},
   "outputs": [
    {
     "name": "stdout",
     "output_type": "stream",
     "text": [
      "<class 'pandas.core.frame.DataFrame'>\n",
      "Index: 351 entries, 1 to 389\n",
      "Data columns (total 13 columns):\n",
      " #   Column                   Non-Null Count  Dtype \n",
      "---  ------                   --------------  ----- \n",
      " 0   nama_kecamatan           351 non-null    object\n",
      " 1   nama_desa                351 non-null    object\n",
      " 2   kategori                 351 non-null    object\n",
      " 3   masjid                   351 non-null    int64 \n",
      " 4   surau/_langgar/_mushola  351 non-null    int64 \n",
      " 5   gereja_kristen           351 non-null    int64 \n",
      " 6   gereja_katolik           351 non-null    int64 \n",
      " 7   kapel                    351 non-null    int64 \n",
      " 8   pura                     351 non-null    int64 \n",
      " 9   wihara                   351 non-null    int64 \n",
      " 10  kelenteng                351 non-null    int64 \n",
      " 11  balai_basarah            351 non-null    int64 \n",
      " 12  lainnya                  351 non-null    int64 \n",
      "dtypes: int64(10), object(3)\n",
      "memory usage: 38.4+ KB\n"
     ]
    }
   ],
   "source": [
    "add_category_df5.info()"
   ]
  },
  {
   "cell_type": "markdown",
   "id": "ee235d72-17b5-4ba4-9c8a-e4ca8e5d4dcf",
   "metadata": {
    "jp-MarkdownHeadingCollapsed": true
   },
   "source": [
    "### Sheet 6"
   ]
  },
  {
   "cell_type": "code",
   "execution_count": 581,
   "id": "39fb6c41-9322-4bd5-a289-0b92ebd5b899",
   "metadata": {},
   "outputs": [
    {
     "data": {
      "text/html": [
       "<div>\n",
       "<style scoped>\n",
       "    .dataframe tbody tr th:only-of-type {\n",
       "        vertical-align: middle;\n",
       "    }\n",
       "\n",
       "    .dataframe tbody tr th {\n",
       "        vertical-align: top;\n",
       "    }\n",
       "\n",
       "    .dataframe thead th {\n",
       "        text-align: right;\n",
       "    }\n",
       "</style>\n",
       "<table border=\"1\" class=\"dataframe\">\n",
       "  <thead>\n",
       "    <tr style=\"text-align: right;\">\n",
       "      <th></th>\n",
       "      <th>nama_kecamatan</th>\n",
       "      <th>nama_desa</th>\n",
       "      <th>kategori</th>\n",
       "      <th>pkk</th>\n",
       "      <th>karang_taruna</th>\n",
       "      <th>lembaga_adat</th>\n",
       "      <th>kelompok_tani</th>\n",
       "      <th>lembaga_pengelolaan_air</th>\n",
       "      <th>kelompok_masyarakat_(pokmas)</th>\n",
       "    </tr>\n",
       "  </thead>\n",
       "  <tbody>\n",
       "    <tr>\n",
       "      <th>1</th>\n",
       "      <td>CIPATUJAH</td>\n",
       "      <td>BANTARKALONG</td>\n",
       "      <td>lembaga_kemasyarakatan</td>\n",
       "      <td>4</td>\n",
       "      <td>1</td>\n",
       "      <td>1</td>\n",
       "      <td>8</td>\n",
       "      <td>1</td>\n",
       "      <td>0</td>\n",
       "    </tr>\n",
       "    <tr>\n",
       "      <th>2</th>\n",
       "      <td>CIPATUJAH</td>\n",
       "      <td>CIANDUM</td>\n",
       "      <td>lembaga_kemasyarakatan</td>\n",
       "      <td>1</td>\n",
       "      <td>1</td>\n",
       "      <td>0</td>\n",
       "      <td>9</td>\n",
       "      <td>0</td>\n",
       "      <td>0</td>\n",
       "    </tr>\n",
       "    <tr>\n",
       "      <th>3</th>\n",
       "      <td>CIPATUJAH</td>\n",
       "      <td>CIHERAS</td>\n",
       "      <td>lembaga_kemasyarakatan</td>\n",
       "      <td>1</td>\n",
       "      <td>8</td>\n",
       "      <td>0</td>\n",
       "      <td>6</td>\n",
       "      <td>1</td>\n",
       "      <td>1</td>\n",
       "    </tr>\n",
       "    <tr>\n",
       "      <th>4</th>\n",
       "      <td>CIPATUJAH</td>\n",
       "      <td>CIKAWUNGADING</td>\n",
       "      <td>lembaga_kemasyarakatan</td>\n",
       "      <td>1</td>\n",
       "      <td>1</td>\n",
       "      <td>0</td>\n",
       "      <td>4</td>\n",
       "      <td>0</td>\n",
       "      <td>2</td>\n",
       "    </tr>\n",
       "    <tr>\n",
       "      <th>5</th>\n",
       "      <td>CIPATUJAH</td>\n",
       "      <td>CIPANAS</td>\n",
       "      <td>lembaga_kemasyarakatan</td>\n",
       "      <td>1</td>\n",
       "      <td>1</td>\n",
       "      <td>0</td>\n",
       "      <td>3</td>\n",
       "      <td>0</td>\n",
       "      <td>0</td>\n",
       "    </tr>\n",
       "  </tbody>\n",
       "</table>\n",
       "</div>"
      ],
      "text/plain": [
       "  nama_kecamatan      nama_desa                kategori  pkk  karang_taruna  \\\n",
       "1      CIPATUJAH   BANTARKALONG  lembaga_kemasyarakatan    4              1   \n",
       "2      CIPATUJAH        CIANDUM  lembaga_kemasyarakatan    1              1   \n",
       "3      CIPATUJAH        CIHERAS  lembaga_kemasyarakatan    1              8   \n",
       "4      CIPATUJAH  CIKAWUNGADING  lembaga_kemasyarakatan    1              1   \n",
       "5      CIPATUJAH        CIPANAS  lembaga_kemasyarakatan    1              1   \n",
       "\n",
       "   lembaga_adat  kelompok_tani  lembaga_pengelolaan_air  \\\n",
       "1             1              8                        1   \n",
       "2             0              9                        0   \n",
       "3             0              6                        1   \n",
       "4             0              4                        0   \n",
       "5             0              3                        0   \n",
       "\n",
       "   kelompok_masyarakat_(pokmas)  \n",
       "1                             0  \n",
       "2                             0  \n",
       "3                             1  \n",
       "4                             2  \n",
       "5                             0  "
      ]
     },
     "execution_count": 581,
     "metadata": {},
     "output_type": "execute_result"
    }
   ],
   "source": [
    "add_category_df6.head()"
   ]
  },
  {
   "cell_type": "code",
   "execution_count": 582,
   "id": "aab72750-10ec-460c-877a-05aaae652306",
   "metadata": {},
   "outputs": [
    {
     "data": {
      "text/plain": [
       "nama_kecamatan                  0\n",
       "nama_desa                       0\n",
       "kategori                        0\n",
       "pkk                             0\n",
       "karang_taruna                   0\n",
       "lembaga_adat                    0\n",
       "kelompok_tani                   0\n",
       "lembaga_pengelolaan_air         0\n",
       "kelompok_masyarakat_(pokmas)    0\n",
       "dtype: int64"
      ]
     },
     "execution_count": 582,
     "metadata": {},
     "output_type": "execute_result"
    }
   ],
   "source": [
    "add_category_df6.isna().sum()"
   ]
  },
  {
   "cell_type": "code",
   "execution_count": 584,
   "id": "8e48905a-0e77-48c0-9a22-1385a13aef3b",
   "metadata": {},
   "outputs": [
    {
     "name": "stdout",
     "output_type": "stream",
     "text": [
      "<class 'pandas.core.frame.DataFrame'>\n",
      "Index: 351 entries, 1 to 389\n",
      "Data columns (total 9 columns):\n",
      " #   Column                        Non-Null Count  Dtype \n",
      "---  ------                        --------------  ----- \n",
      " 0   nama_kecamatan                351 non-null    object\n",
      " 1   nama_desa                     351 non-null    object\n",
      " 2   kategori                      351 non-null    object\n",
      " 3   pkk                           351 non-null    int64 \n",
      " 4   karang_taruna                 351 non-null    int64 \n",
      " 5   lembaga_adat                  351 non-null    int64 \n",
      " 6   kelompok_tani                 351 non-null    int64 \n",
      " 7   lembaga_pengelolaan_air       351 non-null    int64 \n",
      " 8   kelompok_masyarakat_(pokmas)  351 non-null    int64 \n",
      "dtypes: int64(6), object(3)\n",
      "memory usage: 27.4+ KB\n"
     ]
    }
   ],
   "source": [
    "add_category_df6.info()"
   ]
  },
  {
   "cell_type": "markdown",
   "id": "d424aa40-609e-48a4-b2a1-2c1316dd6602",
   "metadata": {
    "jp-MarkdownHeadingCollapsed": true
   },
   "source": [
    "### Sheet 7"
   ]
  },
  {
   "cell_type": "code",
   "execution_count": 585,
   "id": "9551d7e4-8cd8-4d57-b294-d67ae7b8082b",
   "metadata": {},
   "outputs": [
    {
     "data": {
      "text/html": [
       "<div>\n",
       "<style scoped>\n",
       "    .dataframe tbody tr th:only-of-type {\n",
       "        vertical-align: middle;\n",
       "    }\n",
       "\n",
       "    .dataframe tbody tr th {\n",
       "        vertical-align: top;\n",
       "    }\n",
       "\n",
       "    .dataframe thead th {\n",
       "        text-align: right;\n",
       "    }\n",
       "</style>\n",
       "<table border=\"1\" class=\"dataframe\">\n",
       "  <thead>\n",
       "    <tr style=\"text-align: right;\">\n",
       "      <th></th>\n",
       "      <th>nama_kecamatan</th>\n",
       "      <th>nama_desa</th>\n",
       "      <th>kategori</th>\n",
       "      <th>bts</th>\n",
       "      <th>operator_layanan_seluler</th>\n",
       "    </tr>\n",
       "  </thead>\n",
       "  <tbody>\n",
       "    <tr>\n",
       "      <th>0</th>\n",
       "      <td>CIPATUJAH</td>\n",
       "      <td>CIHERAS</td>\n",
       "      <td>bts</td>\n",
       "      <td>2</td>\n",
       "      <td>3.0</td>\n",
       "    </tr>\n",
       "    <tr>\n",
       "      <th>1</th>\n",
       "      <td>CIPATUJAH</td>\n",
       "      <td>CIPANAS</td>\n",
       "      <td>bts</td>\n",
       "      <td>1</td>\n",
       "      <td>4.0</td>\n",
       "    </tr>\n",
       "    <tr>\n",
       "      <th>2</th>\n",
       "      <td>CIPATUJAH</td>\n",
       "      <td>CIANDUM</td>\n",
       "      <td>bts</td>\n",
       "      <td>1</td>\n",
       "      <td>4.0</td>\n",
       "    </tr>\n",
       "    <tr>\n",
       "      <th>3</th>\n",
       "      <td>CIPATUJAH</td>\n",
       "      <td>CIPATUJAH</td>\n",
       "      <td>bts</td>\n",
       "      <td>3</td>\n",
       "      <td>3.0</td>\n",
       "    </tr>\n",
       "    <tr>\n",
       "      <th>4</th>\n",
       "      <td>CIPATUJAH</td>\n",
       "      <td>SINDANGKERTA</td>\n",
       "      <td>bts</td>\n",
       "      <td>3</td>\n",
       "      <td>3.0</td>\n",
       "    </tr>\n",
       "  </tbody>\n",
       "</table>\n",
       "</div>"
      ],
      "text/plain": [
       "  nama_kecamatan     nama_desa kategori  bts  operator_layanan_seluler\n",
       "0      CIPATUJAH       CIHERAS      bts    2                       3.0\n",
       "1      CIPATUJAH       CIPANAS      bts    1                       4.0\n",
       "2      CIPATUJAH       CIANDUM      bts    1                       4.0\n",
       "3      CIPATUJAH     CIPATUJAH      bts    3                       3.0\n",
       "4      CIPATUJAH  SINDANGKERTA      bts    3                       3.0"
      ]
     },
     "execution_count": 585,
     "metadata": {},
     "output_type": "execute_result"
    }
   ],
   "source": [
    "add_category_df7.head()"
   ]
  },
  {
   "cell_type": "code",
   "execution_count": 589,
   "id": "afd2b71c-8430-4307-8071-436c87d4c103",
   "metadata": {},
   "outputs": [
    {
     "data": {
      "text/plain": [
       "nama_kecamatan              1\n",
       "nama_desa                   1\n",
       "kategori                    0\n",
       "bts                         0\n",
       "operator_layanan_seluler    1\n",
       "dtype: int64"
      ]
     },
     "execution_count": 589,
     "metadata": {},
     "output_type": "execute_result"
    }
   ],
   "source": [
    "add_category_df7.isna().sum()"
   ]
  },
  {
   "cell_type": "code",
   "execution_count": 591,
   "id": "62649db0-294c-44fb-b514-8db0085bb3d3",
   "metadata": {},
   "outputs": [
    {
     "data": {
      "text/html": [
       "<div>\n",
       "<style scoped>\n",
       "    .dataframe tbody tr th:only-of-type {\n",
       "        vertical-align: middle;\n",
       "    }\n",
       "\n",
       "    .dataframe tbody tr th {\n",
       "        vertical-align: top;\n",
       "    }\n",
       "\n",
       "    .dataframe thead th {\n",
       "        text-align: right;\n",
       "    }\n",
       "</style>\n",
       "<table border=\"1\" class=\"dataframe\">\n",
       "  <thead>\n",
       "    <tr style=\"text-align: right;\">\n",
       "      <th></th>\n",
       "      <th>nama_kecamatan</th>\n",
       "      <th>nama_desa</th>\n",
       "      <th>kategori</th>\n",
       "      <th>bts</th>\n",
       "      <th>operator_layanan_seluler</th>\n",
       "    </tr>\n",
       "  </thead>\n",
       "  <tbody>\n",
       "    <tr>\n",
       "      <th>0</th>\n",
       "      <td>False</td>\n",
       "      <td>False</td>\n",
       "      <td>False</td>\n",
       "      <td>False</td>\n",
       "      <td>False</td>\n",
       "    </tr>\n",
       "    <tr>\n",
       "      <th>1</th>\n",
       "      <td>False</td>\n",
       "      <td>False</td>\n",
       "      <td>False</td>\n",
       "      <td>False</td>\n",
       "      <td>False</td>\n",
       "    </tr>\n",
       "    <tr>\n",
       "      <th>2</th>\n",
       "      <td>False</td>\n",
       "      <td>False</td>\n",
       "      <td>False</td>\n",
       "      <td>False</td>\n",
       "      <td>False</td>\n",
       "    </tr>\n",
       "    <tr>\n",
       "      <th>3</th>\n",
       "      <td>False</td>\n",
       "      <td>False</td>\n",
       "      <td>False</td>\n",
       "      <td>False</td>\n",
       "      <td>False</td>\n",
       "    </tr>\n",
       "    <tr>\n",
       "      <th>4</th>\n",
       "      <td>False</td>\n",
       "      <td>False</td>\n",
       "      <td>False</td>\n",
       "      <td>False</td>\n",
       "      <td>False</td>\n",
       "    </tr>\n",
       "    <tr>\n",
       "      <th>...</th>\n",
       "      <td>...</td>\n",
       "      <td>...</td>\n",
       "      <td>...</td>\n",
       "      <td>...</td>\n",
       "      <td>...</td>\n",
       "    </tr>\n",
       "    <tr>\n",
       "      <th>347</th>\n",
       "      <td>False</td>\n",
       "      <td>False</td>\n",
       "      <td>False</td>\n",
       "      <td>False</td>\n",
       "      <td>False</td>\n",
       "    </tr>\n",
       "    <tr>\n",
       "      <th>348</th>\n",
       "      <td>False</td>\n",
       "      <td>False</td>\n",
       "      <td>False</td>\n",
       "      <td>False</td>\n",
       "      <td>False</td>\n",
       "    </tr>\n",
       "    <tr>\n",
       "      <th>349</th>\n",
       "      <td>False</td>\n",
       "      <td>False</td>\n",
       "      <td>False</td>\n",
       "      <td>False</td>\n",
       "      <td>False</td>\n",
       "    </tr>\n",
       "    <tr>\n",
       "      <th>350</th>\n",
       "      <td>False</td>\n",
       "      <td>False</td>\n",
       "      <td>False</td>\n",
       "      <td>False</td>\n",
       "      <td>False</td>\n",
       "    </tr>\n",
       "    <tr>\n",
       "      <th>351</th>\n",
       "      <td>True</td>\n",
       "      <td>True</td>\n",
       "      <td>False</td>\n",
       "      <td>False</td>\n",
       "      <td>True</td>\n",
       "    </tr>\n",
       "  </tbody>\n",
       "</table>\n",
       "<p>352 rows × 5 columns</p>\n",
       "</div>"
      ],
      "text/plain": [
       "     nama_kecamatan  nama_desa  kategori    bts  operator_layanan_seluler\n",
       "0             False      False     False  False                     False\n",
       "1             False      False     False  False                     False\n",
       "2             False      False     False  False                     False\n",
       "3             False      False     False  False                     False\n",
       "4             False      False     False  False                     False\n",
       "..              ...        ...       ...    ...                       ...\n",
       "347           False      False     False  False                     False\n",
       "348           False      False     False  False                     False\n",
       "349           False      False     False  False                     False\n",
       "350           False      False     False  False                     False\n",
       "351            True       True     False  False                      True\n",
       "\n",
       "[352 rows x 5 columns]"
      ]
     },
     "execution_count": 591,
     "metadata": {},
     "output_type": "execute_result"
    }
   ],
   "source": [
    "add_category_df7.isna()"
   ]
  },
  {
   "cell_type": "code",
   "execution_count": 595,
   "id": "135ac154-361a-4f57-86b0-3b66daec0e8c",
   "metadata": {},
   "outputs": [],
   "source": [
    "add_category_df7 = add_category_df7.dropna()"
   ]
  },
  {
   "cell_type": "code",
   "execution_count": 600,
   "id": "cd6ca771-2039-4d5e-89bf-9c01d3dfe5ee",
   "metadata": {},
   "outputs": [],
   "source": [
    "add_category_df7 = change_to_int(add_category_df7)"
   ]
  },
  {
   "cell_type": "code",
   "execution_count": 601,
   "id": "a8981cd1-c71e-496a-8c37-39334d9b134e",
   "metadata": {},
   "outputs": [
    {
     "data": {
      "text/html": [
       "<div>\n",
       "<style scoped>\n",
       "    .dataframe tbody tr th:only-of-type {\n",
       "        vertical-align: middle;\n",
       "    }\n",
       "\n",
       "    .dataframe tbody tr th {\n",
       "        vertical-align: top;\n",
       "    }\n",
       "\n",
       "    .dataframe thead th {\n",
       "        text-align: right;\n",
       "    }\n",
       "</style>\n",
       "<table border=\"1\" class=\"dataframe\">\n",
       "  <thead>\n",
       "    <tr style=\"text-align: right;\">\n",
       "      <th></th>\n",
       "      <th>nama_kecamatan</th>\n",
       "      <th>nama_desa</th>\n",
       "      <th>kategori</th>\n",
       "      <th>bts</th>\n",
       "      <th>operator_layanan_seluler</th>\n",
       "    </tr>\n",
       "  </thead>\n",
       "  <tbody>\n",
       "    <tr>\n",
       "      <th>0</th>\n",
       "      <td>CIPATUJAH</td>\n",
       "      <td>CIHERAS</td>\n",
       "      <td>bts</td>\n",
       "      <td>2</td>\n",
       "      <td>3</td>\n",
       "    </tr>\n",
       "    <tr>\n",
       "      <th>1</th>\n",
       "      <td>CIPATUJAH</td>\n",
       "      <td>CIPANAS</td>\n",
       "      <td>bts</td>\n",
       "      <td>1</td>\n",
       "      <td>4</td>\n",
       "    </tr>\n",
       "    <tr>\n",
       "      <th>2</th>\n",
       "      <td>CIPATUJAH</td>\n",
       "      <td>CIANDUM</td>\n",
       "      <td>bts</td>\n",
       "      <td>1</td>\n",
       "      <td>4</td>\n",
       "    </tr>\n",
       "    <tr>\n",
       "      <th>3</th>\n",
       "      <td>CIPATUJAH</td>\n",
       "      <td>CIPATUJAH</td>\n",
       "      <td>bts</td>\n",
       "      <td>3</td>\n",
       "      <td>3</td>\n",
       "    </tr>\n",
       "    <tr>\n",
       "      <th>4</th>\n",
       "      <td>CIPATUJAH</td>\n",
       "      <td>SINDANGKERTA</td>\n",
       "      <td>bts</td>\n",
       "      <td>3</td>\n",
       "      <td>3</td>\n",
       "    </tr>\n",
       "  </tbody>\n",
       "</table>\n",
       "</div>"
      ],
      "text/plain": [
       "  nama_kecamatan     nama_desa kategori  bts  operator_layanan_seluler\n",
       "0      CIPATUJAH       CIHERAS      bts    2                         3\n",
       "1      CIPATUJAH       CIPANAS      bts    1                         4\n",
       "2      CIPATUJAH       CIANDUM      bts    1                         4\n",
       "3      CIPATUJAH     CIPATUJAH      bts    3                         3\n",
       "4      CIPATUJAH  SINDANGKERTA      bts    3                         3"
      ]
     },
     "execution_count": 601,
     "metadata": {},
     "output_type": "execute_result"
    }
   ],
   "source": [
    "add_category_df7.head()"
   ]
  },
  {
   "cell_type": "code",
   "execution_count": 603,
   "id": "c90246e5-67a1-4f93-9829-e4be189603dc",
   "metadata": {},
   "outputs": [
    {
     "data": {
      "text/plain": [
       "nama_kecamatan              0\n",
       "nama_desa                   0\n",
       "kategori                    0\n",
       "bts                         0\n",
       "operator_layanan_seluler    0\n",
       "dtype: int64"
      ]
     },
     "execution_count": 603,
     "metadata": {},
     "output_type": "execute_result"
    }
   ],
   "source": [
    "add_category_df7.isna().sum()"
   ]
  },
  {
   "cell_type": "code",
   "execution_count": 602,
   "id": "1debd90a-30c3-4848-9b6b-dba8d628ef23",
   "metadata": {},
   "outputs": [
    {
     "name": "stdout",
     "output_type": "stream",
     "text": [
      "<class 'pandas.core.frame.DataFrame'>\n",
      "Index: 351 entries, 0 to 350\n",
      "Data columns (total 5 columns):\n",
      " #   Column                    Non-Null Count  Dtype \n",
      "---  ------                    --------------  ----- \n",
      " 0   nama_kecamatan            351 non-null    object\n",
      " 1   nama_desa                 351 non-null    object\n",
      " 2   kategori                  351 non-null    object\n",
      " 3   bts                       351 non-null    int64 \n",
      " 4   operator_layanan_seluler  351 non-null    int64 \n",
      "dtypes: int64(2), object(3)\n",
      "memory usage: 16.5+ KB\n"
     ]
    }
   ],
   "source": [
    "add_category_df7.info()"
   ]
  },
  {
   "cell_type": "markdown",
   "id": "1139806a-166d-4f5c-8c6d-720f6db0a283",
   "metadata": {
    "jp-MarkdownHeadingCollapsed": true
   },
   "source": [
    "### Sheet 8"
   ]
  },
  {
   "cell_type": "code",
   "execution_count": 546,
   "id": "fdb05bb5-7517-4437-836f-5110db25bf45",
   "metadata": {},
   "outputs": [
    {
     "data": {
      "text/html": [
       "<div>\n",
       "<style scoped>\n",
       "    .dataframe tbody tr th:only-of-type {\n",
       "        vertical-align: middle;\n",
       "    }\n",
       "\n",
       "    .dataframe tbody tr th {\n",
       "        vertical-align: top;\n",
       "    }\n",
       "\n",
       "    .dataframe thead th {\n",
       "        text-align: right;\n",
       "    }\n",
       "</style>\n",
       "<table border=\"1\" class=\"dataframe\">\n",
       "  <thead>\n",
       "    <tr style=\"text-align: right;\">\n",
       "      <th></th>\n",
       "      <th>nama_kecamatan</th>\n",
       "      <th>nama_desa</th>\n",
       "      <th>kategori</th>\n",
       "      <th>sinyal_telepon</th>\n",
       "      <th>sinyal_internet</th>\n",
       "    </tr>\n",
       "  </thead>\n",
       "  <tbody>\n",
       "    <tr>\n",
       "      <th>0</th>\n",
       "      <td>CIPATUJAH</td>\n",
       "      <td>CIHERAS</td>\n",
       "      <td>sinyal</td>\n",
       "      <td>Sinyal Sangat Kuat</td>\n",
       "      <td>4G/LTE</td>\n",
       "    </tr>\n",
       "    <tr>\n",
       "      <th>1</th>\n",
       "      <td>CIPATUJAH</td>\n",
       "      <td>CIPANAS</td>\n",
       "      <td>sinyal</td>\n",
       "      <td>Sinyal Kuat</td>\n",
       "      <td>4G/LTE</td>\n",
       "    </tr>\n",
       "    <tr>\n",
       "      <th>2</th>\n",
       "      <td>CIPATUJAH</td>\n",
       "      <td>CIANDUM</td>\n",
       "      <td>sinyal</td>\n",
       "      <td>Sinyal Kuat</td>\n",
       "      <td>4G/LTE</td>\n",
       "    </tr>\n",
       "    <tr>\n",
       "      <th>3</th>\n",
       "      <td>CIPATUJAH</td>\n",
       "      <td>CIPATUJAH</td>\n",
       "      <td>sinyal</td>\n",
       "      <td>Sinyal Kuat</td>\n",
       "      <td>4G/LTE</td>\n",
       "    </tr>\n",
       "    <tr>\n",
       "      <th>4</th>\n",
       "      <td>CIPATUJAH</td>\n",
       "      <td>SINDANGKERTA</td>\n",
       "      <td>sinyal</td>\n",
       "      <td>Sinyal Kuat</td>\n",
       "      <td>4G/LTE</td>\n",
       "    </tr>\n",
       "  </tbody>\n",
       "</table>\n",
       "</div>"
      ],
      "text/plain": [
       "  nama_kecamatan     nama_desa kategori      sinyal_telepon sinyal_internet\n",
       "0      CIPATUJAH       CIHERAS   sinyal  Sinyal Sangat Kuat          4G/LTE\n",
       "1      CIPATUJAH       CIPANAS   sinyal         Sinyal Kuat          4G/LTE\n",
       "2      CIPATUJAH       CIANDUM   sinyal         Sinyal Kuat          4G/LTE\n",
       "3      CIPATUJAH     CIPATUJAH   sinyal         Sinyal Kuat          4G/LTE\n",
       "4      CIPATUJAH  SINDANGKERTA   sinyal         Sinyal Kuat          4G/LTE"
      ]
     },
     "execution_count": 546,
     "metadata": {},
     "output_type": "execute_result"
    }
   ],
   "source": [
    "add_category_df8.head()"
   ]
  },
  {
   "cell_type": "code",
   "execution_count": 547,
   "id": "9d92c848-5412-48ec-86df-6a50573b8fc1",
   "metadata": {},
   "outputs": [
    {
     "data": {
      "text/plain": [
       "array(['Sinyal Sangat Kuat', 'Sinyal Kuat', 'Tidak Digunakan',\n",
       "       'Tidak Ada Sinyal'], dtype=object)"
      ]
     },
     "execution_count": 547,
     "metadata": {},
     "output_type": "execute_result"
    }
   ],
   "source": [
    "add_category_df8['sinyal_telepon'].unique()"
   ]
  },
  {
   "cell_type": "code",
   "execution_count": 548,
   "id": "b180eeca-f1c9-4a1e-9f0c-0c8d989b8957",
   "metadata": {},
   "outputs": [
    {
     "data": {
      "text/plain": [
       "array(['4G/LTE', '2,5G/E/GPRSG/H/H+/EVDO', 4, 'Tidak Ada Sinyal Internet'],\n",
       "      dtype=object)"
      ]
     },
     "execution_count": 548,
     "metadata": {},
     "output_type": "execute_result"
    }
   ],
   "source": [
    "add_category_df8['sinyal_internet'].unique()"
   ]
  },
  {
   "cell_type": "code",
   "execution_count": 558,
   "id": "e0ac76c8-0fb0-49c3-900a-293fa0b09815",
   "metadata": {},
   "outputs": [],
   "source": [
    "add_category_df8['sinyal_telepon']= add_category_df8['sinyal_telepon'].replace({\n",
    "    'Sinyal Sangat Kuat': 2,\n",
    "    'Sinyal Kuat': 1,\n",
    "    'Tidak Digunakan': 0,\n",
    "    'Tidak Ada Sinyal': 0    \n",
    "}).astype(int)"
   ]
  },
  {
   "cell_type": "code",
   "execution_count": 550,
   "id": "349dc30b-7dd8-4a36-9640-0b5bb1dbef35",
   "metadata": {},
   "outputs": [
    {
     "data": {
      "text/html": [
       "<div>\n",
       "<style scoped>\n",
       "    .dataframe tbody tr th:only-of-type {\n",
       "        vertical-align: middle;\n",
       "    }\n",
       "\n",
       "    .dataframe tbody tr th {\n",
       "        vertical-align: top;\n",
       "    }\n",
       "\n",
       "    .dataframe thead th {\n",
       "        text-align: right;\n",
       "    }\n",
       "</style>\n",
       "<table border=\"1\" class=\"dataframe\">\n",
       "  <thead>\n",
       "    <tr style=\"text-align: right;\">\n",
       "      <th></th>\n",
       "      <th>nama_kecamatan</th>\n",
       "      <th>nama_desa</th>\n",
       "      <th>kategori</th>\n",
       "      <th>sinyal_telepon</th>\n",
       "      <th>sinyal_internet</th>\n",
       "    </tr>\n",
       "  </thead>\n",
       "  <tbody>\n",
       "    <tr>\n",
       "      <th>0</th>\n",
       "      <td>CIPATUJAH</td>\n",
       "      <td>CIHERAS</td>\n",
       "      <td>sinyal</td>\n",
       "      <td>2</td>\n",
       "      <td>4G/LTE</td>\n",
       "    </tr>\n",
       "    <tr>\n",
       "      <th>1</th>\n",
       "      <td>CIPATUJAH</td>\n",
       "      <td>CIPANAS</td>\n",
       "      <td>sinyal</td>\n",
       "      <td>1</td>\n",
       "      <td>4G/LTE</td>\n",
       "    </tr>\n",
       "    <tr>\n",
       "      <th>2</th>\n",
       "      <td>CIPATUJAH</td>\n",
       "      <td>CIANDUM</td>\n",
       "      <td>sinyal</td>\n",
       "      <td>1</td>\n",
       "      <td>4G/LTE</td>\n",
       "    </tr>\n",
       "  </tbody>\n",
       "</table>\n",
       "</div>"
      ],
      "text/plain": [
       "  nama_kecamatan nama_desa kategori  sinyal_telepon sinyal_internet\n",
       "0      CIPATUJAH   CIHERAS   sinyal               2          4G/LTE\n",
       "1      CIPATUJAH   CIPANAS   sinyal               1          4G/LTE\n",
       "2      CIPATUJAH   CIANDUM   sinyal               1          4G/LTE"
      ]
     },
     "execution_count": 550,
     "metadata": {},
     "output_type": "execute_result"
    }
   ],
   "source": [
    "add_category_df8.head(3)"
   ]
  },
  {
   "cell_type": "code",
   "execution_count": 551,
   "id": "c0df3d04-6d31-41d4-bbe9-16c541485774",
   "metadata": {},
   "outputs": [],
   "source": [
    "add_category_df8['sinyal_internet'] = add_category_df8['sinyal_internet'].replace(4, \"4G/LTE\")"
   ]
  },
  {
   "cell_type": "code",
   "execution_count": 552,
   "id": "f21e05fc-b254-429b-96f1-8341d7ded192",
   "metadata": {},
   "outputs": [
    {
     "data": {
      "text/plain": [
       "array(['4G/LTE', '2,5G/E/GPRSG/H/H+/EVDO', 'Tidak Ada Sinyal Internet'],\n",
       "      dtype=object)"
      ]
     },
     "execution_count": 552,
     "metadata": {},
     "output_type": "execute_result"
    }
   ],
   "source": [
    "add_category_df8['sinyal_internet'].unique()"
   ]
  },
  {
   "cell_type": "code",
   "execution_count": 559,
   "id": "40d1d3f0-af9d-422a-be92-db22a62a5b25",
   "metadata": {},
   "outputs": [],
   "source": [
    "add_category_df8['sinyal_internet']= add_category_df8['sinyal_internet'].replace({\n",
    "    '4G/LTE': 2,\n",
    "    '2,5G/E/GPRSG/H/H+/EVDO': 1,\n",
    "    'Tidak Ada Sinyal Internet': 0  \n",
    "}).astype(int)"
   ]
  },
  {
   "cell_type": "code",
   "execution_count": 554,
   "id": "15a66d92-8bc0-48eb-8976-586812da28cc",
   "metadata": {},
   "outputs": [
    {
     "data": {
      "text/html": [
       "<div>\n",
       "<style scoped>\n",
       "    .dataframe tbody tr th:only-of-type {\n",
       "        vertical-align: middle;\n",
       "    }\n",
       "\n",
       "    .dataframe tbody tr th {\n",
       "        vertical-align: top;\n",
       "    }\n",
       "\n",
       "    .dataframe thead th {\n",
       "        text-align: right;\n",
       "    }\n",
       "</style>\n",
       "<table border=\"1\" class=\"dataframe\">\n",
       "  <thead>\n",
       "    <tr style=\"text-align: right;\">\n",
       "      <th></th>\n",
       "      <th>nama_kecamatan</th>\n",
       "      <th>nama_desa</th>\n",
       "      <th>kategori</th>\n",
       "      <th>sinyal_telepon</th>\n",
       "      <th>sinyal_internet</th>\n",
       "    </tr>\n",
       "  </thead>\n",
       "  <tbody>\n",
       "    <tr>\n",
       "      <th>0</th>\n",
       "      <td>CIPATUJAH</td>\n",
       "      <td>CIHERAS</td>\n",
       "      <td>sinyal</td>\n",
       "      <td>2</td>\n",
       "      <td>2</td>\n",
       "    </tr>\n",
       "    <tr>\n",
       "      <th>1</th>\n",
       "      <td>CIPATUJAH</td>\n",
       "      <td>CIPANAS</td>\n",
       "      <td>sinyal</td>\n",
       "      <td>1</td>\n",
       "      <td>2</td>\n",
       "    </tr>\n",
       "    <tr>\n",
       "      <th>2</th>\n",
       "      <td>CIPATUJAH</td>\n",
       "      <td>CIANDUM</td>\n",
       "      <td>sinyal</td>\n",
       "      <td>1</td>\n",
       "      <td>2</td>\n",
       "    </tr>\n",
       "  </tbody>\n",
       "</table>\n",
       "</div>"
      ],
      "text/plain": [
       "  nama_kecamatan nama_desa kategori  sinyal_telepon  sinyal_internet\n",
       "0      CIPATUJAH   CIHERAS   sinyal               2                2\n",
       "1      CIPATUJAH   CIPANAS   sinyal               1                2\n",
       "2      CIPATUJAH   CIANDUM   sinyal               1                2"
      ]
     },
     "execution_count": 554,
     "metadata": {},
     "output_type": "execute_result"
    }
   ],
   "source": [
    "add_category_df8.head(3)"
   ]
  },
  {
   "cell_type": "code",
   "execution_count": 605,
   "id": "626edc5d-35b5-44fe-bebd-3e03a95626e6",
   "metadata": {},
   "outputs": [
    {
     "data": {
      "text/plain": [
       "nama_kecamatan     0\n",
       "nama_desa          0\n",
       "kategori           0\n",
       "sinyal_telepon     0\n",
       "sinyal_internet    0\n",
       "dtype: int64"
      ]
     },
     "execution_count": 605,
     "metadata": {},
     "output_type": "execute_result"
    }
   ],
   "source": [
    "add_category_df8.isna().sum()"
   ]
  },
  {
   "cell_type": "code",
   "execution_count": 606,
   "id": "487c0c6f-4338-4601-a857-a678a1b30a8d",
   "metadata": {},
   "outputs": [
    {
     "name": "stdout",
     "output_type": "stream",
     "text": [
      "<class 'pandas.core.frame.DataFrame'>\n",
      "RangeIndex: 351 entries, 0 to 350\n",
      "Data columns (total 5 columns):\n",
      " #   Column           Non-Null Count  Dtype \n",
      "---  ------           --------------  ----- \n",
      " 0   nama_kecamatan   351 non-null    object\n",
      " 1   nama_desa        351 non-null    object\n",
      " 2   kategori         351 non-null    object\n",
      " 3   sinyal_telepon   351 non-null    int64 \n",
      " 4   sinyal_internet  351 non-null    int64 \n",
      "dtypes: int64(2), object(3)\n",
      "memory usage: 13.8+ KB\n"
     ]
    }
   ],
   "source": [
    "add_category_df8.info()"
   ]
  },
  {
   "cell_type": "markdown",
   "id": "2782e294-c252-44e4-81f0-305b1eaa9c3a",
   "metadata": {
    "jp-MarkdownHeadingCollapsed": true
   },
   "source": [
    "### Sheet 9\n"
   ]
  },
  {
   "cell_type": "code",
   "execution_count": 607,
   "id": "4e71e6db-1c89-4d57-9847-2d82b9bb3dd2",
   "metadata": {},
   "outputs": [
    {
     "data": {
      "text/html": [
       "<div>\n",
       "<style scoped>\n",
       "    .dataframe tbody tr th:only-of-type {\n",
       "        vertical-align: middle;\n",
       "    }\n",
       "\n",
       "    .dataframe tbody tr th {\n",
       "        vertical-align: top;\n",
       "    }\n",
       "\n",
       "    .dataframe thead th {\n",
       "        text-align: right;\n",
       "    }\n",
       "</style>\n",
       "<table border=\"1\" class=\"dataframe\">\n",
       "  <thead>\n",
       "    <tr style=\"text-align: right;\">\n",
       "      <th></th>\n",
       "      <th>nama_kecamatan</th>\n",
       "      <th>nama_desa</th>\n",
       "      <th>kategori</th>\n",
       "      <th>pos</th>\n",
       "      <th>pos_keliling</th>\n",
       "      <th>ekspedisi</th>\n",
       "    </tr>\n",
       "  </thead>\n",
       "  <tbody>\n",
       "    <tr>\n",
       "      <th>0</th>\n",
       "      <td>CIPATUJAH</td>\n",
       "      <td>CIHERAS</td>\n",
       "      <td>pos</td>\n",
       "      <td>Tidak Ada</td>\n",
       "      <td>Tidak Ada</td>\n",
       "      <td>Tidak Ada</td>\n",
       "    </tr>\n",
       "    <tr>\n",
       "      <th>1</th>\n",
       "      <td>CIPATUJAH</td>\n",
       "      <td>CIPANAS</td>\n",
       "      <td>pos</td>\n",
       "      <td>Tidak Ada</td>\n",
       "      <td>Ada</td>\n",
       "      <td>Tidak Ada</td>\n",
       "    </tr>\n",
       "    <tr>\n",
       "      <th>2</th>\n",
       "      <td>CIPATUJAH</td>\n",
       "      <td>CIANDUM</td>\n",
       "      <td>pos</td>\n",
       "      <td>Tidak Ada</td>\n",
       "      <td>Tidak Ada</td>\n",
       "      <td>Tidak Ada</td>\n",
       "    </tr>\n",
       "    <tr>\n",
       "      <th>3</th>\n",
       "      <td>CIPATUJAH</td>\n",
       "      <td>CIPATUJAH</td>\n",
       "      <td>pos</td>\n",
       "      <td>Beroperasi</td>\n",
       "      <td>Ada</td>\n",
       "      <td>Beroperasi</td>\n",
       "    </tr>\n",
       "    <tr>\n",
       "      <th>4</th>\n",
       "      <td>CIPATUJAH</td>\n",
       "      <td>SINDANGKERTA</td>\n",
       "      <td>pos</td>\n",
       "      <td>Tidak Ada</td>\n",
       "      <td>Ada</td>\n",
       "      <td>Tidak Ada</td>\n",
       "    </tr>\n",
       "  </tbody>\n",
       "</table>\n",
       "</div>"
      ],
      "text/plain": [
       "  nama_kecamatan     nama_desa kategori         pos pos_keliling   ekspedisi\n",
       "0      CIPATUJAH       CIHERAS      pos   Tidak Ada    Tidak Ada   Tidak Ada\n",
       "1      CIPATUJAH       CIPANAS      pos   Tidak Ada          Ada   Tidak Ada\n",
       "2      CIPATUJAH       CIANDUM      pos   Tidak Ada    Tidak Ada   Tidak Ada\n",
       "3      CIPATUJAH     CIPATUJAH      pos  Beroperasi          Ada  Beroperasi\n",
       "4      CIPATUJAH  SINDANGKERTA      pos   Tidak Ada          Ada   Tidak Ada"
      ]
     },
     "execution_count": 607,
     "metadata": {},
     "output_type": "execute_result"
    }
   ],
   "source": [
    "add_category_df9.head()"
   ]
  },
  {
   "cell_type": "code",
   "execution_count": 608,
   "id": "9528b5ce-afcc-4ea6-8ad9-7302c1594cb0",
   "metadata": {},
   "outputs": [
    {
     "data": {
      "text/plain": [
       "(array(['Tidak Ada', 'Beroperasi'], dtype=object),\n",
       " array(['Tidak Ada', 'Ada'], dtype=object),\n",
       " array(['Tidak Ada', 'Beroperasi', 'Jarang Beroperasi'], dtype=object))"
      ]
     },
     "execution_count": 608,
     "metadata": {},
     "output_type": "execute_result"
    }
   ],
   "source": [
    "add_category_df9['pos'].unique(), add_category_df9['pos_keliling'].unique(),add_category_df9['ekspedisi'].unique()"
   ]
  },
  {
   "cell_type": "code",
   "execution_count": 612,
   "id": "efb9d1a0-2583-47e6-a6d1-f6c2d9cfa414",
   "metadata": {},
   "outputs": [],
   "source": [
    "add_category_df9['pos']= add_category_df9['pos'].replace({\n",
    "    'Beroperasi': 1,\n",
    "    'Tidak Ada': 0  \n",
    "}).astype(int)"
   ]
  },
  {
   "cell_type": "code",
   "execution_count": 614,
   "id": "6ea5905f-2773-4f6f-96f8-0cfaf3f033ae",
   "metadata": {},
   "outputs": [],
   "source": [
    "add_category_df9['pos_keliling']= add_category_df9['pos_keliling'].replace({\n",
    "    'Ada': 1,\n",
    "    'Tidak Ada': 0  \n",
    "}).astype(int)"
   ]
  },
  {
   "cell_type": "code",
   "execution_count": 616,
   "id": "7bc21f3f-eb12-46fd-aa39-95e2737968f8",
   "metadata": {},
   "outputs": [],
   "source": [
    "add_category_df9['ekspedisi']= add_category_df9['ekspedisi'].replace({\n",
    "    'Beroperasi': 2,\n",
    "    'Jarang Beroperasi' : 1,\n",
    "    'Tidak Ada': 0  \n",
    "}).astype(int)"
   ]
  },
  {
   "cell_type": "code",
   "execution_count": 617,
   "id": "c6a5ec32-2cdb-4969-b68e-9dedc56706e6",
   "metadata": {},
   "outputs": [
    {
     "data": {
      "text/html": [
       "<div>\n",
       "<style scoped>\n",
       "    .dataframe tbody tr th:only-of-type {\n",
       "        vertical-align: middle;\n",
       "    }\n",
       "\n",
       "    .dataframe tbody tr th {\n",
       "        vertical-align: top;\n",
       "    }\n",
       "\n",
       "    .dataframe thead th {\n",
       "        text-align: right;\n",
       "    }\n",
       "</style>\n",
       "<table border=\"1\" class=\"dataframe\">\n",
       "  <thead>\n",
       "    <tr style=\"text-align: right;\">\n",
       "      <th></th>\n",
       "      <th>nama_kecamatan</th>\n",
       "      <th>nama_desa</th>\n",
       "      <th>kategori</th>\n",
       "      <th>pos</th>\n",
       "      <th>pos_keliling</th>\n",
       "      <th>ekspedisi</th>\n",
       "    </tr>\n",
       "  </thead>\n",
       "  <tbody>\n",
       "    <tr>\n",
       "      <th>0</th>\n",
       "      <td>CIPATUJAH</td>\n",
       "      <td>CIHERAS</td>\n",
       "      <td>pos</td>\n",
       "      <td>0</td>\n",
       "      <td>0</td>\n",
       "      <td>0</td>\n",
       "    </tr>\n",
       "    <tr>\n",
       "      <th>1</th>\n",
       "      <td>CIPATUJAH</td>\n",
       "      <td>CIPANAS</td>\n",
       "      <td>pos</td>\n",
       "      <td>0</td>\n",
       "      <td>1</td>\n",
       "      <td>0</td>\n",
       "    </tr>\n",
       "    <tr>\n",
       "      <th>2</th>\n",
       "      <td>CIPATUJAH</td>\n",
       "      <td>CIANDUM</td>\n",
       "      <td>pos</td>\n",
       "      <td>0</td>\n",
       "      <td>0</td>\n",
       "      <td>0</td>\n",
       "    </tr>\n",
       "    <tr>\n",
       "      <th>3</th>\n",
       "      <td>CIPATUJAH</td>\n",
       "      <td>CIPATUJAH</td>\n",
       "      <td>pos</td>\n",
       "      <td>1</td>\n",
       "      <td>1</td>\n",
       "      <td>2</td>\n",
       "    </tr>\n",
       "    <tr>\n",
       "      <th>4</th>\n",
       "      <td>CIPATUJAH</td>\n",
       "      <td>SINDANGKERTA</td>\n",
       "      <td>pos</td>\n",
       "      <td>0</td>\n",
       "      <td>1</td>\n",
       "      <td>0</td>\n",
       "    </tr>\n",
       "  </tbody>\n",
       "</table>\n",
       "</div>"
      ],
      "text/plain": [
       "  nama_kecamatan     nama_desa kategori  pos  pos_keliling  ekspedisi\n",
       "0      CIPATUJAH       CIHERAS      pos    0             0          0\n",
       "1      CIPATUJAH       CIPANAS      pos    0             1          0\n",
       "2      CIPATUJAH       CIANDUM      pos    0             0          0\n",
       "3      CIPATUJAH     CIPATUJAH      pos    1             1          2\n",
       "4      CIPATUJAH  SINDANGKERTA      pos    0             1          0"
      ]
     },
     "execution_count": 617,
     "metadata": {},
     "output_type": "execute_result"
    }
   ],
   "source": [
    "add_category_df9.head()"
   ]
  },
  {
   "cell_type": "code",
   "execution_count": 618,
   "id": "868a508c-7e63-40f3-b6d6-ea8b77739307",
   "metadata": {},
   "outputs": [
    {
     "data": {
      "text/plain": [
       "nama_kecamatan    0\n",
       "nama_desa         0\n",
       "kategori          0\n",
       "pos               0\n",
       "pos_keliling      0\n",
       "ekspedisi         0\n",
       "dtype: int64"
      ]
     },
     "execution_count": 618,
     "metadata": {},
     "output_type": "execute_result"
    }
   ],
   "source": [
    "add_category_df9.isna().sum()"
   ]
  },
  {
   "cell_type": "code",
   "execution_count": 619,
   "id": "ae055ddb-f261-4ead-8b37-dbaa2f03f2f6",
   "metadata": {},
   "outputs": [
    {
     "name": "stdout",
     "output_type": "stream",
     "text": [
      "<class 'pandas.core.frame.DataFrame'>\n",
      "RangeIndex: 351 entries, 0 to 350\n",
      "Data columns (total 6 columns):\n",
      " #   Column          Non-Null Count  Dtype \n",
      "---  ------          --------------  ----- \n",
      " 0   nama_kecamatan  351 non-null    object\n",
      " 1   nama_desa       351 non-null    object\n",
      " 2   kategori        351 non-null    object\n",
      " 3   pos             351 non-null    int64 \n",
      " 4   pos_keliling    351 non-null    int64 \n",
      " 5   ekspedisi       351 non-null    int64 \n",
      "dtypes: int64(3), object(3)\n",
      "memory usage: 16.6+ KB\n"
     ]
    }
   ],
   "source": [
    "add_category_df9.info()"
   ]
  },
  {
   "cell_type": "markdown",
   "id": "b1bec554-f162-47e9-ac71-a2d26fb4b82a",
   "metadata": {
    "jp-MarkdownHeadingCollapsed": true
   },
   "source": [
    "### Sheet 10\n"
   ]
  },
  {
   "cell_type": "code",
   "execution_count": 620,
   "id": "47760547-92f4-43f7-831b-60e9e42381d3",
   "metadata": {},
   "outputs": [
    {
     "data": {
      "text/html": [
       "<div>\n",
       "<style scoped>\n",
       "    .dataframe tbody tr th:only-of-type {\n",
       "        vertical-align: middle;\n",
       "    }\n",
       "\n",
       "    .dataframe tbody tr th {\n",
       "        vertical-align: top;\n",
       "    }\n",
       "\n",
       "    .dataframe thead th {\n",
       "        text-align: right;\n",
       "    }\n",
       "</style>\n",
       "<table border=\"1\" class=\"dataframe\">\n",
       "  <thead>\n",
       "    <tr style=\"text-align: right;\">\n",
       "      <th></th>\n",
       "      <th>nama_kecamatan</th>\n",
       "      <th>nama_desa</th>\n",
       "      <th>kategori</th>\n",
       "      <th>kulit</th>\n",
       "      <th>furnitur</th>\n",
       "      <th>barang_logan</th>\n",
       "      <th>tekstil</th>\n",
       "      <th>pak_jadi</th>\n",
       "      <th>galian_nonlogam</th>\n",
       "      <th>kayu</th>\n",
       "      <th>makanan</th>\n",
       "      <th>minuman</th>\n",
       "      <th>olah_tembakau</th>\n",
       "      <th>kertas</th>\n",
       "      <th>percetakan</th>\n",
       "      <th>alat_angkut</th>\n",
       "      <th>kerajinan</th>\n",
       "      <th>reparasi</th>\n",
       "      <th>lainnya</th>\n",
       "    </tr>\n",
       "  </thead>\n",
       "  <tbody>\n",
       "    <tr>\n",
       "      <th>0</th>\n",
       "      <td>CIPATUJAH</td>\n",
       "      <td>CIHERAS</td>\n",
       "      <td>industri</td>\n",
       "      <td>0</td>\n",
       "      <td>3</td>\n",
       "      <td>1</td>\n",
       "      <td>0</td>\n",
       "      <td>1</td>\n",
       "      <td>0</td>\n",
       "      <td>1</td>\n",
       "      <td>14</td>\n",
       "      <td>2</td>\n",
       "      <td>0</td>\n",
       "      <td>0</td>\n",
       "      <td>0</td>\n",
       "      <td>0</td>\n",
       "      <td>1</td>\n",
       "      <td>0</td>\n",
       "      <td>2</td>\n",
       "    </tr>\n",
       "    <tr>\n",
       "      <th>1</th>\n",
       "      <td>CIPATUJAH</td>\n",
       "      <td>CIPANAS</td>\n",
       "      <td>industri</td>\n",
       "      <td>0</td>\n",
       "      <td>2</td>\n",
       "      <td>0</td>\n",
       "      <td>0</td>\n",
       "      <td>0</td>\n",
       "      <td>0</td>\n",
       "      <td>0</td>\n",
       "      <td>1</td>\n",
       "      <td>0</td>\n",
       "      <td>0</td>\n",
       "      <td>0</td>\n",
       "      <td>0</td>\n",
       "      <td>0</td>\n",
       "      <td>0</td>\n",
       "      <td>1</td>\n",
       "      <td>0</td>\n",
       "    </tr>\n",
       "    <tr>\n",
       "      <th>2</th>\n",
       "      <td>CIPATUJAH</td>\n",
       "      <td>CIANDUM</td>\n",
       "      <td>industri</td>\n",
       "      <td>0</td>\n",
       "      <td>0</td>\n",
       "      <td>0</td>\n",
       "      <td>0</td>\n",
       "      <td>5</td>\n",
       "      <td>0</td>\n",
       "      <td>0</td>\n",
       "      <td>24</td>\n",
       "      <td>24</td>\n",
       "      <td>0</td>\n",
       "      <td>0</td>\n",
       "      <td>0</td>\n",
       "      <td>0</td>\n",
       "      <td>0</td>\n",
       "      <td>5</td>\n",
       "      <td>0</td>\n",
       "    </tr>\n",
       "    <tr>\n",
       "      <th>3</th>\n",
       "      <td>CIPATUJAH</td>\n",
       "      <td>CIPATUJAH</td>\n",
       "      <td>industri</td>\n",
       "      <td>0</td>\n",
       "      <td>3</td>\n",
       "      <td>0</td>\n",
       "      <td>0</td>\n",
       "      <td>3</td>\n",
       "      <td>5</td>\n",
       "      <td>5</td>\n",
       "      <td>20</td>\n",
       "      <td>20</td>\n",
       "      <td>0</td>\n",
       "      <td>0</td>\n",
       "      <td>0</td>\n",
       "      <td>0</td>\n",
       "      <td>0</td>\n",
       "      <td>1</td>\n",
       "      <td>0</td>\n",
       "    </tr>\n",
       "    <tr>\n",
       "      <th>4</th>\n",
       "      <td>CIPATUJAH</td>\n",
       "      <td>SINDANGKERTA</td>\n",
       "      <td>industri</td>\n",
       "      <td>0</td>\n",
       "      <td>6</td>\n",
       "      <td>0</td>\n",
       "      <td>0</td>\n",
       "      <td>3</td>\n",
       "      <td>12</td>\n",
       "      <td>0</td>\n",
       "      <td>66</td>\n",
       "      <td>66</td>\n",
       "      <td>0</td>\n",
       "      <td>0</td>\n",
       "      <td>0</td>\n",
       "      <td>0</td>\n",
       "      <td>2</td>\n",
       "      <td>0</td>\n",
       "      <td>0</td>\n",
       "    </tr>\n",
       "  </tbody>\n",
       "</table>\n",
       "</div>"
      ],
      "text/plain": [
       "  nama_kecamatan     nama_desa  kategori  kulit  furnitur  barang_logan  \\\n",
       "0      CIPATUJAH       CIHERAS  industri      0         3             1   \n",
       "1      CIPATUJAH       CIPANAS  industri      0         2             0   \n",
       "2      CIPATUJAH       CIANDUM  industri      0         0             0   \n",
       "3      CIPATUJAH     CIPATUJAH  industri      0         3             0   \n",
       "4      CIPATUJAH  SINDANGKERTA  industri      0         6             0   \n",
       "\n",
       "   tekstil  pak_jadi  galian_nonlogam  kayu  makanan  minuman  olah_tembakau  \\\n",
       "0        0         1                0     1       14        2              0   \n",
       "1        0         0                0     0        1        0              0   \n",
       "2        0         5                0     0       24       24              0   \n",
       "3        0         3                5     5       20       20              0   \n",
       "4        0         3               12     0       66       66              0   \n",
       "\n",
       "   kertas  percetakan  alat_angkut  kerajinan  reparasi  lainnya  \n",
       "0       0           0            0          1         0        2  \n",
       "1       0           0            0          0         1        0  \n",
       "2       0           0            0          0         5        0  \n",
       "3       0           0            0          0         1        0  \n",
       "4       0           0            0          2         0        0  "
      ]
     },
     "execution_count": 620,
     "metadata": {},
     "output_type": "execute_result"
    }
   ],
   "source": [
    "add_category_df10.head()"
   ]
  },
  {
   "cell_type": "code",
   "execution_count": 623,
   "id": "4d8ab662-c184-44cc-aa44-a333ea5c1571",
   "metadata": {},
   "outputs": [
    {
     "data": {
      "text/plain": [
       "nama_kecamatan     0\n",
       "nama_desa          0\n",
       "kategori           0\n",
       "kulit              0\n",
       "furnitur           0\n",
       "barang_logan       0\n",
       "tekstil            0\n",
       "pak_jadi           0\n",
       "galian_nonlogam    0\n",
       "kayu               0\n",
       "makanan            0\n",
       "minuman            0\n",
       "olah_tembakau      0\n",
       "kertas             0\n",
       "percetakan         0\n",
       "alat_angkut        0\n",
       "kerajinan          0\n",
       "reparasi           0\n",
       "lainnya            0\n",
       "dtype: int64"
      ]
     },
     "execution_count": 623,
     "metadata": {},
     "output_type": "execute_result"
    }
   ],
   "source": [
    "add_category_df10.isna().sum()"
   ]
  },
  {
   "cell_type": "code",
   "execution_count": 624,
   "id": "34fdb80d-46ae-46cf-a001-1deb84300198",
   "metadata": {},
   "outputs": [
    {
     "name": "stdout",
     "output_type": "stream",
     "text": [
      "<class 'pandas.core.frame.DataFrame'>\n",
      "RangeIndex: 351 entries, 0 to 350\n",
      "Data columns (total 19 columns):\n",
      " #   Column           Non-Null Count  Dtype \n",
      "---  ------           --------------  ----- \n",
      " 0   nama_kecamatan   351 non-null    object\n",
      " 1   nama_desa        351 non-null    object\n",
      " 2   kategori         351 non-null    object\n",
      " 3   kulit            351 non-null    int64 \n",
      " 4   furnitur         351 non-null    int64 \n",
      " 5   barang_logan     351 non-null    int64 \n",
      " 6   tekstil          351 non-null    int64 \n",
      " 7   pak_jadi         351 non-null    int64 \n",
      " 8   galian_nonlogam  351 non-null    int64 \n",
      " 9   kayu             351 non-null    int64 \n",
      " 10  makanan          351 non-null    int64 \n",
      " 11  minuman          351 non-null    int64 \n",
      " 12  olah_tembakau    351 non-null    int64 \n",
      " 13  kertas           351 non-null    int64 \n",
      " 14  percetakan       351 non-null    int64 \n",
      " 15  alat_angkut      351 non-null    int64 \n",
      " 16  kerajinan        351 non-null    int64 \n",
      " 17  reparasi         351 non-null    int64 \n",
      " 18  lainnya          351 non-null    int64 \n",
      "dtypes: int64(16), object(3)\n",
      "memory usage: 52.2+ KB\n"
     ]
    }
   ],
   "source": [
    "add_category_df10.info()"
   ]
  },
  {
   "cell_type": "markdown",
   "id": "e2636660-486f-471a-aad7-3d8d26e23fca",
   "metadata": {
    "jp-MarkdownHeadingCollapsed": true
   },
   "source": [
    "### Sheet 11\n"
   ]
  },
  {
   "cell_type": "code",
   "execution_count": 625,
   "id": "674f9866-7349-41e4-bd32-67040033d8e4",
   "metadata": {},
   "outputs": [
    {
     "data": {
      "text/html": [
       "<div>\n",
       "<style scoped>\n",
       "    .dataframe tbody tr th:only-of-type {\n",
       "        vertical-align: middle;\n",
       "    }\n",
       "\n",
       "    .dataframe tbody tr th {\n",
       "        vertical-align: top;\n",
       "    }\n",
       "\n",
       "    .dataframe thead th {\n",
       "        text-align: right;\n",
       "    }\n",
       "</style>\n",
       "<table border=\"1\" class=\"dataframe\">\n",
       "  <thead>\n",
       "    <tr style=\"text-align: right;\">\n",
       "      <th></th>\n",
       "      <th>nama_kecamatan</th>\n",
       "      <th>nama_desa</th>\n",
       "      <th>kategori</th>\n",
       "      <th>bank_pemerintah</th>\n",
       "      <th>bank_swasta</th>\n",
       "      <th>bpr</th>\n",
       "    </tr>\n",
       "  </thead>\n",
       "  <tbody>\n",
       "    <tr>\n",
       "      <th>0</th>\n",
       "      <td>CIPATUJAH</td>\n",
       "      <td>CIHERAS</td>\n",
       "      <td>perbankan</td>\n",
       "      <td>0</td>\n",
       "      <td>0</td>\n",
       "      <td>0</td>\n",
       "    </tr>\n",
       "    <tr>\n",
       "      <th>1</th>\n",
       "      <td>CIPATUJAH</td>\n",
       "      <td>CIPANAS</td>\n",
       "      <td>perbankan</td>\n",
       "      <td>0</td>\n",
       "      <td>0</td>\n",
       "      <td>0</td>\n",
       "    </tr>\n",
       "    <tr>\n",
       "      <th>2</th>\n",
       "      <td>CIPATUJAH</td>\n",
       "      <td>CIANDUM</td>\n",
       "      <td>perbankan</td>\n",
       "      <td>0</td>\n",
       "      <td>0</td>\n",
       "      <td>0</td>\n",
       "    </tr>\n",
       "    <tr>\n",
       "      <th>3</th>\n",
       "      <td>CIPATUJAH</td>\n",
       "      <td>CIPATUJAH</td>\n",
       "      <td>perbankan</td>\n",
       "      <td>1</td>\n",
       "      <td>1</td>\n",
       "      <td>1</td>\n",
       "    </tr>\n",
       "    <tr>\n",
       "      <th>4</th>\n",
       "      <td>CIPATUJAH</td>\n",
       "      <td>SINDANGKERTA</td>\n",
       "      <td>perbankan</td>\n",
       "      <td>0</td>\n",
       "      <td>0</td>\n",
       "      <td>0</td>\n",
       "    </tr>\n",
       "  </tbody>\n",
       "</table>\n",
       "</div>"
      ],
      "text/plain": [
       "  nama_kecamatan     nama_desa   kategori  bank_pemerintah  bank_swasta  bpr\n",
       "0      CIPATUJAH       CIHERAS  perbankan                0            0    0\n",
       "1      CIPATUJAH       CIPANAS  perbankan                0            0    0\n",
       "2      CIPATUJAH       CIANDUM  perbankan                0            0    0\n",
       "3      CIPATUJAH     CIPATUJAH  perbankan                1            1    1\n",
       "4      CIPATUJAH  SINDANGKERTA  perbankan                0            0    0"
      ]
     },
     "execution_count": 625,
     "metadata": {},
     "output_type": "execute_result"
    }
   ],
   "source": [
    "add_category_df11.head()"
   ]
  },
  {
   "cell_type": "code",
   "execution_count": 636,
   "id": "2f2ef6f6-198f-4d61-946d-41aca6d843d9",
   "metadata": {},
   "outputs": [
    {
     "data": {
      "text/plain": [
       "nama_kecamatan     0\n",
       "nama_desa          0\n",
       "kategori           0\n",
       "bank_pemerintah    0\n",
       "bank_swasta        0\n",
       "bpr                0\n",
       "dtype: int64"
      ]
     },
     "execution_count": 636,
     "metadata": {},
     "output_type": "execute_result"
    }
   ],
   "source": [
    "add_category_df11.isna().sum()"
   ]
  },
  {
   "cell_type": "code",
   "execution_count": 637,
   "id": "e27a0355-c80e-4324-8a63-25f654597e18",
   "metadata": {},
   "outputs": [
    {
     "name": "stdout",
     "output_type": "stream",
     "text": [
      "<class 'pandas.core.frame.DataFrame'>\n",
      "RangeIndex: 351 entries, 0 to 350\n",
      "Data columns (total 6 columns):\n",
      " #   Column           Non-Null Count  Dtype \n",
      "---  ------           --------------  ----- \n",
      " 0   nama_kecamatan   351 non-null    object\n",
      " 1   nama_desa        351 non-null    object\n",
      " 2   kategori         351 non-null    object\n",
      " 3   bank_pemerintah  351 non-null    int64 \n",
      " 4   bank_swasta      351 non-null    int64 \n",
      " 5   bpr              351 non-null    int64 \n",
      "dtypes: int64(3), object(3)\n",
      "memory usage: 16.6+ KB\n"
     ]
    }
   ],
   "source": [
    "add_category_df11.info()"
   ]
  },
  {
   "cell_type": "markdown",
   "id": "85c6b1e9-5ca4-421d-ad22-56dfd2498888",
   "metadata": {
    "jp-MarkdownHeadingCollapsed": true
   },
   "source": [
    "### Sheet 12\n"
   ]
  },
  {
   "cell_type": "code",
   "execution_count": 629,
   "id": "7c9393cb-cf30-4a7a-ba6e-586b22f06d7a",
   "metadata": {},
   "outputs": [
    {
     "data": {
      "text/html": [
       "<div>\n",
       "<style scoped>\n",
       "    .dataframe tbody tr th:only-of-type {\n",
       "        vertical-align: middle;\n",
       "    }\n",
       "\n",
       "    .dataframe tbody tr th {\n",
       "        vertical-align: top;\n",
       "    }\n",
       "\n",
       "    .dataframe thead th {\n",
       "        text-align: right;\n",
       "    }\n",
       "</style>\n",
       "<table border=\"1\" class=\"dataframe\">\n",
       "  <thead>\n",
       "    <tr style=\"text-align: right;\">\n",
       "      <th></th>\n",
       "      <th>nama_kecamatan</th>\n",
       "      <th>nama_desa</th>\n",
       "      <th>kategori</th>\n",
       "      <th>kud</th>\n",
       "      <th>ind_kecil</th>\n",
       "      <th>kospin</th>\n",
       "      <th>lainnya</th>\n",
       "    </tr>\n",
       "  </thead>\n",
       "  <tbody>\n",
       "    <tr>\n",
       "      <th>0</th>\n",
       "      <td>CIPATUJAH</td>\n",
       "      <td>CIHERAS</td>\n",
       "      <td>kud</td>\n",
       "      <td>0</td>\n",
       "      <td>0</td>\n",
       "      <td>0</td>\n",
       "      <td>0</td>\n",
       "    </tr>\n",
       "    <tr>\n",
       "      <th>1</th>\n",
       "      <td>CIPATUJAH</td>\n",
       "      <td>CIPANAS</td>\n",
       "      <td>kud</td>\n",
       "      <td>0</td>\n",
       "      <td>0</td>\n",
       "      <td>0</td>\n",
       "      <td>0</td>\n",
       "    </tr>\n",
       "    <tr>\n",
       "      <th>2</th>\n",
       "      <td>CIPATUJAH</td>\n",
       "      <td>CIANDUM</td>\n",
       "      <td>kud</td>\n",
       "      <td>0</td>\n",
       "      <td>0</td>\n",
       "      <td>0</td>\n",
       "      <td>0</td>\n",
       "    </tr>\n",
       "    <tr>\n",
       "      <th>3</th>\n",
       "      <td>CIPATUJAH</td>\n",
       "      <td>CIPATUJAH</td>\n",
       "      <td>kud</td>\n",
       "      <td>0</td>\n",
       "      <td>0</td>\n",
       "      <td>0</td>\n",
       "      <td>0</td>\n",
       "    </tr>\n",
       "    <tr>\n",
       "      <th>4</th>\n",
       "      <td>CIPATUJAH</td>\n",
       "      <td>SINDANGKERTA</td>\n",
       "      <td>kud</td>\n",
       "      <td>0</td>\n",
       "      <td>0</td>\n",
       "      <td>0</td>\n",
       "      <td>0</td>\n",
       "    </tr>\n",
       "  </tbody>\n",
       "</table>\n",
       "</div>"
      ],
      "text/plain": [
       "  nama_kecamatan     nama_desa kategori  kud  ind_kecil  kospin  lainnya\n",
       "0      CIPATUJAH       CIHERAS      kud    0          0       0        0\n",
       "1      CIPATUJAH       CIPANAS      kud    0          0       0        0\n",
       "2      CIPATUJAH       CIANDUM      kud    0          0       0        0\n",
       "3      CIPATUJAH     CIPATUJAH      kud    0          0       0        0\n",
       "4      CIPATUJAH  SINDANGKERTA      kud    0          0       0        0"
      ]
     },
     "execution_count": 629,
     "metadata": {},
     "output_type": "execute_result"
    }
   ],
   "source": [
    "add_category_df12.head()"
   ]
  },
  {
   "cell_type": "code",
   "execution_count": 634,
   "id": "2d06cbdb-f9fd-45df-a86b-a1aff44b2cea",
   "metadata": {},
   "outputs": [
    {
     "data": {
      "text/plain": [
       "nama_kecamatan    1\n",
       "nama_desa         1\n",
       "kategori          0\n",
       "kud               0\n",
       "ind_kecil         0\n",
       "kospin            0\n",
       "lainnya           0\n",
       "dtype: int64"
      ]
     },
     "execution_count": 634,
     "metadata": {},
     "output_type": "execute_result"
    }
   ],
   "source": [
    "add_category_df12.isna().sum()"
   ]
  },
  {
   "cell_type": "code",
   "execution_count": 638,
   "id": "53da90f2-527e-4fe5-9e21-5a797632f60c",
   "metadata": {},
   "outputs": [
    {
     "data": {
      "text/html": [
       "<div>\n",
       "<style scoped>\n",
       "    .dataframe tbody tr th:only-of-type {\n",
       "        vertical-align: middle;\n",
       "    }\n",
       "\n",
       "    .dataframe tbody tr th {\n",
       "        vertical-align: top;\n",
       "    }\n",
       "\n",
       "    .dataframe thead th {\n",
       "        text-align: right;\n",
       "    }\n",
       "</style>\n",
       "<table border=\"1\" class=\"dataframe\">\n",
       "  <thead>\n",
       "    <tr style=\"text-align: right;\">\n",
       "      <th></th>\n",
       "      <th>nama_kecamatan</th>\n",
       "      <th>nama_desa</th>\n",
       "      <th>kategori</th>\n",
       "      <th>kud</th>\n",
       "      <th>ind_kecil</th>\n",
       "      <th>kospin</th>\n",
       "      <th>lainnya</th>\n",
       "    </tr>\n",
       "  </thead>\n",
       "  <tbody>\n",
       "    <tr>\n",
       "      <th>0</th>\n",
       "      <td>False</td>\n",
       "      <td>False</td>\n",
       "      <td>False</td>\n",
       "      <td>False</td>\n",
       "      <td>False</td>\n",
       "      <td>False</td>\n",
       "      <td>False</td>\n",
       "    </tr>\n",
       "    <tr>\n",
       "      <th>1</th>\n",
       "      <td>False</td>\n",
       "      <td>False</td>\n",
       "      <td>False</td>\n",
       "      <td>False</td>\n",
       "      <td>False</td>\n",
       "      <td>False</td>\n",
       "      <td>False</td>\n",
       "    </tr>\n",
       "    <tr>\n",
       "      <th>2</th>\n",
       "      <td>False</td>\n",
       "      <td>False</td>\n",
       "      <td>False</td>\n",
       "      <td>False</td>\n",
       "      <td>False</td>\n",
       "      <td>False</td>\n",
       "      <td>False</td>\n",
       "    </tr>\n",
       "    <tr>\n",
       "      <th>3</th>\n",
       "      <td>False</td>\n",
       "      <td>False</td>\n",
       "      <td>False</td>\n",
       "      <td>False</td>\n",
       "      <td>False</td>\n",
       "      <td>False</td>\n",
       "      <td>False</td>\n",
       "    </tr>\n",
       "    <tr>\n",
       "      <th>4</th>\n",
       "      <td>False</td>\n",
       "      <td>False</td>\n",
       "      <td>False</td>\n",
       "      <td>False</td>\n",
       "      <td>False</td>\n",
       "      <td>False</td>\n",
       "      <td>False</td>\n",
       "    </tr>\n",
       "    <tr>\n",
       "      <th>...</th>\n",
       "      <td>...</td>\n",
       "      <td>...</td>\n",
       "      <td>...</td>\n",
       "      <td>...</td>\n",
       "      <td>...</td>\n",
       "      <td>...</td>\n",
       "      <td>...</td>\n",
       "    </tr>\n",
       "    <tr>\n",
       "      <th>347</th>\n",
       "      <td>False</td>\n",
       "      <td>False</td>\n",
       "      <td>False</td>\n",
       "      <td>False</td>\n",
       "      <td>False</td>\n",
       "      <td>False</td>\n",
       "      <td>False</td>\n",
       "    </tr>\n",
       "    <tr>\n",
       "      <th>348</th>\n",
       "      <td>False</td>\n",
       "      <td>False</td>\n",
       "      <td>False</td>\n",
       "      <td>False</td>\n",
       "      <td>False</td>\n",
       "      <td>False</td>\n",
       "      <td>False</td>\n",
       "    </tr>\n",
       "    <tr>\n",
       "      <th>349</th>\n",
       "      <td>False</td>\n",
       "      <td>False</td>\n",
       "      <td>False</td>\n",
       "      <td>False</td>\n",
       "      <td>False</td>\n",
       "      <td>False</td>\n",
       "      <td>False</td>\n",
       "    </tr>\n",
       "    <tr>\n",
       "      <th>350</th>\n",
       "      <td>False</td>\n",
       "      <td>False</td>\n",
       "      <td>False</td>\n",
       "      <td>False</td>\n",
       "      <td>False</td>\n",
       "      <td>False</td>\n",
       "      <td>False</td>\n",
       "    </tr>\n",
       "    <tr>\n",
       "      <th>351</th>\n",
       "      <td>True</td>\n",
       "      <td>True</td>\n",
       "      <td>False</td>\n",
       "      <td>False</td>\n",
       "      <td>False</td>\n",
       "      <td>False</td>\n",
       "      <td>False</td>\n",
       "    </tr>\n",
       "  </tbody>\n",
       "</table>\n",
       "<p>352 rows × 7 columns</p>\n",
       "</div>"
      ],
      "text/plain": [
       "     nama_kecamatan  nama_desa  kategori    kud  ind_kecil  kospin  lainnya\n",
       "0             False      False     False  False      False   False    False\n",
       "1             False      False     False  False      False   False    False\n",
       "2             False      False     False  False      False   False    False\n",
       "3             False      False     False  False      False   False    False\n",
       "4             False      False     False  False      False   False    False\n",
       "..              ...        ...       ...    ...        ...     ...      ...\n",
       "347           False      False     False  False      False   False    False\n",
       "348           False      False     False  False      False   False    False\n",
       "349           False      False     False  False      False   False    False\n",
       "350           False      False     False  False      False   False    False\n",
       "351            True       True     False  False      False   False    False\n",
       "\n",
       "[352 rows x 7 columns]"
      ]
     },
     "execution_count": 638,
     "metadata": {},
     "output_type": "execute_result"
    }
   ],
   "source": [
    "add_category_df12.isna()"
   ]
  },
  {
   "cell_type": "code",
   "execution_count": 639,
   "id": "5a39695b-7327-40c3-bee6-aa63fd881d0a",
   "metadata": {},
   "outputs": [],
   "source": [
    "add_category_df12 = add_category_df12.dropna()"
   ]
  },
  {
   "cell_type": "code",
   "execution_count": 641,
   "id": "b7827f25-ffc7-457f-bee8-11e322580fd9",
   "metadata": {},
   "outputs": [
    {
     "data": {
      "text/plain": [
       "nama_kecamatan    0\n",
       "nama_desa         0\n",
       "kategori          0\n",
       "kud               0\n",
       "ind_kecil         0\n",
       "kospin            0\n",
       "lainnya           0\n",
       "dtype: int64"
      ]
     },
     "execution_count": 641,
     "metadata": {},
     "output_type": "execute_result"
    }
   ],
   "source": [
    "add_category_df12.isna().sum()"
   ]
  },
  {
   "cell_type": "code",
   "execution_count": 642,
   "id": "35d46530-6232-4ade-aff3-379eb7255329",
   "metadata": {},
   "outputs": [
    {
     "name": "stdout",
     "output_type": "stream",
     "text": [
      "<class 'pandas.core.frame.DataFrame'>\n",
      "Index: 351 entries, 0 to 350\n",
      "Data columns (total 7 columns):\n",
      " #   Column          Non-Null Count  Dtype \n",
      "---  ------          --------------  ----- \n",
      " 0   nama_kecamatan  351 non-null    object\n",
      " 1   nama_desa       351 non-null    object\n",
      " 2   kategori        351 non-null    object\n",
      " 3   kud             351 non-null    int64 \n",
      " 4   ind_kecil       351 non-null    int64 \n",
      " 5   kospin          351 non-null    int64 \n",
      " 6   lainnya         351 non-null    int64 \n",
      "dtypes: int64(4), object(3)\n",
      "memory usage: 21.9+ KB\n"
     ]
    }
   ],
   "source": [
    "add_category_df12.info()"
   ]
  },
  {
   "cell_type": "markdown",
   "id": "0d17bdc8-fa88-48c5-8064-5af32447af66",
   "metadata": {
    "jp-MarkdownHeadingCollapsed": true
   },
   "source": [
    "### Sheet 13\n"
   ]
  },
  {
   "cell_type": "code",
   "execution_count": 633,
   "id": "2bbf05e5-eed9-4f89-864a-1a0be0ccdf77",
   "metadata": {},
   "outputs": [
    {
     "data": {
      "text/html": [
       "<div>\n",
       "<style scoped>\n",
       "    .dataframe tbody tr th:only-of-type {\n",
       "        vertical-align: middle;\n",
       "    }\n",
       "\n",
       "    .dataframe tbody tr th {\n",
       "        vertical-align: top;\n",
       "    }\n",
       "\n",
       "    .dataframe thead th {\n",
       "        text-align: right;\n",
       "    }\n",
       "</style>\n",
       "<table border=\"1\" class=\"dataframe\">\n",
       "  <thead>\n",
       "    <tr style=\"text-align: right;\">\n",
       "      <th></th>\n",
       "      <th>nama_kecamatan</th>\n",
       "      <th>nama_desa</th>\n",
       "      <th>kategori</th>\n",
       "      <th>pertokoan</th>\n",
       "      <th>pasar_permanen</th>\n",
       "      <th>semi_permanen</th>\n",
       "      <th>non_bangunan</th>\n",
       "      <th>minimarket</th>\n",
       "      <th>resto/rm</th>\n",
       "      <th>wr_makan</th>\n",
       "      <th>hotel</th>\n",
       "      <th>penginapan</th>\n",
       "      <th>tk_kelontong</th>\n",
       "    </tr>\n",
       "  </thead>\n",
       "  <tbody>\n",
       "    <tr>\n",
       "      <th>0</th>\n",
       "      <td>CIPATUJAH</td>\n",
       "      <td>CIHERAS</td>\n",
       "      <td>sarana_prasarana</td>\n",
       "      <td>1</td>\n",
       "      <td>1</td>\n",
       "      <td>0</td>\n",
       "      <td>0</td>\n",
       "      <td>0</td>\n",
       "      <td>2</td>\n",
       "      <td>17</td>\n",
       "      <td>0</td>\n",
       "      <td>0</td>\n",
       "      <td>117</td>\n",
       "    </tr>\n",
       "    <tr>\n",
       "      <th>1</th>\n",
       "      <td>CIPATUJAH</td>\n",
       "      <td>CIPANAS</td>\n",
       "      <td>sarana_prasarana</td>\n",
       "      <td>0</td>\n",
       "      <td>0</td>\n",
       "      <td>0</td>\n",
       "      <td>0</td>\n",
       "      <td>0</td>\n",
       "      <td>0</td>\n",
       "      <td>2</td>\n",
       "      <td>0</td>\n",
       "      <td>0</td>\n",
       "      <td>36</td>\n",
       "    </tr>\n",
       "    <tr>\n",
       "      <th>2</th>\n",
       "      <td>CIPATUJAH</td>\n",
       "      <td>CIANDUM</td>\n",
       "      <td>sarana_prasarana</td>\n",
       "      <td>0</td>\n",
       "      <td>0</td>\n",
       "      <td>0</td>\n",
       "      <td>0</td>\n",
       "      <td>0</td>\n",
       "      <td>0</td>\n",
       "      <td>10</td>\n",
       "      <td>0</td>\n",
       "      <td>0</td>\n",
       "      <td>64</td>\n",
       "    </tr>\n",
       "    <tr>\n",
       "      <th>3</th>\n",
       "      <td>CIPATUJAH</td>\n",
       "      <td>CIPATUJAH</td>\n",
       "      <td>sarana_prasarana</td>\n",
       "      <td>0</td>\n",
       "      <td>0</td>\n",
       "      <td>1</td>\n",
       "      <td>0</td>\n",
       "      <td>2</td>\n",
       "      <td>0</td>\n",
       "      <td>40</td>\n",
       "      <td>0</td>\n",
       "      <td>3</td>\n",
       "      <td>130</td>\n",
       "    </tr>\n",
       "    <tr>\n",
       "      <th>4</th>\n",
       "      <td>CIPATUJAH</td>\n",
       "      <td>SINDANGKERTA</td>\n",
       "      <td>sarana_prasarana</td>\n",
       "      <td>0</td>\n",
       "      <td>0</td>\n",
       "      <td>1</td>\n",
       "      <td>0</td>\n",
       "      <td>1</td>\n",
       "      <td>0</td>\n",
       "      <td>45</td>\n",
       "      <td>0</td>\n",
       "      <td>7</td>\n",
       "      <td>122</td>\n",
       "    </tr>\n",
       "  </tbody>\n",
       "</table>\n",
       "</div>"
      ],
      "text/plain": [
       "  nama_kecamatan     nama_desa          kategori  pertokoan  pasar_permanen  \\\n",
       "0      CIPATUJAH       CIHERAS  sarana_prasarana          1               1   \n",
       "1      CIPATUJAH       CIPANAS  sarana_prasarana          0               0   \n",
       "2      CIPATUJAH       CIANDUM  sarana_prasarana          0               0   \n",
       "3      CIPATUJAH     CIPATUJAH  sarana_prasarana          0               0   \n",
       "4      CIPATUJAH  SINDANGKERTA  sarana_prasarana          0               0   \n",
       "\n",
       "   semi_permanen  non_bangunan  minimarket  resto/rm  wr_makan  hotel  \\\n",
       "0              0             0           0         2        17      0   \n",
       "1              0             0           0         0         2      0   \n",
       "2              0             0           0         0        10      0   \n",
       "3              1             0           2         0        40      0   \n",
       "4              1             0           1         0        45      0   \n",
       "\n",
       "   penginapan  tk_kelontong  \n",
       "0           0           117  \n",
       "1           0            36  \n",
       "2           0            64  \n",
       "3           3           130  \n",
       "4           7           122  "
      ]
     },
     "execution_count": 633,
     "metadata": {},
     "output_type": "execute_result"
    }
   ],
   "source": [
    "add_category_df13.head()"
   ]
  },
  {
   "cell_type": "code",
   "execution_count": 643,
   "id": "f895bd30-82ef-4691-9c40-b20b56cd2395",
   "metadata": {},
   "outputs": [
    {
     "data": {
      "text/plain": [
       "nama_kecamatan    0\n",
       "nama_desa         0\n",
       "kategori          0\n",
       "pertokoan         0\n",
       "pasar_permanen    0\n",
       "semi_permanen     0\n",
       "non_bangunan      0\n",
       "minimarket        0\n",
       "resto/rm          0\n",
       "wr_makan          0\n",
       "hotel             0\n",
       "penginapan        0\n",
       "tk_kelontong      0\n",
       "dtype: int64"
      ]
     },
     "execution_count": 643,
     "metadata": {},
     "output_type": "execute_result"
    }
   ],
   "source": [
    "add_category_df13.isna().sum()"
   ]
  },
  {
   "cell_type": "code",
   "execution_count": 644,
   "id": "b58303cf-103a-4313-9052-76ecee415087",
   "metadata": {},
   "outputs": [
    {
     "name": "stdout",
     "output_type": "stream",
     "text": [
      "<class 'pandas.core.frame.DataFrame'>\n",
      "RangeIndex: 351 entries, 0 to 350\n",
      "Data columns (total 13 columns):\n",
      " #   Column          Non-Null Count  Dtype \n",
      "---  ------          --------------  ----- \n",
      " 0   nama_kecamatan  351 non-null    object\n",
      " 1   nama_desa       351 non-null    object\n",
      " 2   kategori        351 non-null    object\n",
      " 3   pertokoan       351 non-null    int64 \n",
      " 4   pasar_permanen  351 non-null    int64 \n",
      " 5   semi_permanen   351 non-null    int64 \n",
      " 6   non_bangunan    351 non-null    int64 \n",
      " 7   minimarket      351 non-null    int64 \n",
      " 8   resto/rm        351 non-null    int64 \n",
      " 9   wr_makan        351 non-null    int64 \n",
      " 10  hotel           351 non-null    int64 \n",
      " 11  penginapan      351 non-null    int64 \n",
      " 12  tk_kelontong    351 non-null    int64 \n",
      "dtypes: int64(10), object(3)\n",
      "memory usage: 35.8+ KB\n"
     ]
    }
   ],
   "source": [
    "add_category_df13.info()"
   ]
  },
  {
   "cell_type": "markdown",
   "id": "735f6eb0-efcc-40c2-84be-49a396966e60",
   "metadata": {
    "jp-MarkdownHeadingCollapsed": true
   },
   "source": [
    "### Sheet 14\n"
   ]
  },
  {
   "cell_type": "code",
   "execution_count": 645,
   "id": "5a3d95ec-47f3-4dff-92f7-d515a967ebe8",
   "metadata": {},
   "outputs": [
    {
     "data": {
      "text/html": [
       "<div>\n",
       "<style scoped>\n",
       "    .dataframe tbody tr th:only-of-type {\n",
       "        vertical-align: middle;\n",
       "    }\n",
       "\n",
       "    .dataframe tbody tr th {\n",
       "        vertical-align: top;\n",
       "    }\n",
       "\n",
       "    .dataframe thead th {\n",
       "        text-align: right;\n",
       "    }\n",
       "</style>\n",
       "<table border=\"1\" class=\"dataframe\">\n",
       "  <thead>\n",
       "    <tr style=\"text-align: right;\">\n",
       "      <th></th>\n",
       "      <th>nama_kecamatan</th>\n",
       "      <th>nama_desa</th>\n",
       "      <th>kategori</th>\n",
       "      <th>linmas</th>\n",
       "    </tr>\n",
       "  </thead>\n",
       "  <tbody>\n",
       "    <tr>\n",
       "      <th>0</th>\n",
       "      <td>CIPATUJAH</td>\n",
       "      <td>CIHERAS</td>\n",
       "      <td>linmas</td>\n",
       "      <td>24</td>\n",
       "    </tr>\n",
       "    <tr>\n",
       "      <th>1</th>\n",
       "      <td>CIPATUJAH</td>\n",
       "      <td>CIPANAS</td>\n",
       "      <td>linmas</td>\n",
       "      <td>22</td>\n",
       "    </tr>\n",
       "    <tr>\n",
       "      <th>2</th>\n",
       "      <td>CIPATUJAH</td>\n",
       "      <td>CIANDUM</td>\n",
       "      <td>linmas</td>\n",
       "      <td>25</td>\n",
       "    </tr>\n",
       "    <tr>\n",
       "      <th>3</th>\n",
       "      <td>CIPATUJAH</td>\n",
       "      <td>CIPATUJAH</td>\n",
       "      <td>linmas</td>\n",
       "      <td>20</td>\n",
       "    </tr>\n",
       "    <tr>\n",
       "      <th>4</th>\n",
       "      <td>CIPATUJAH</td>\n",
       "      <td>SINDANGKERTA</td>\n",
       "      <td>linmas</td>\n",
       "      <td>20</td>\n",
       "    </tr>\n",
       "  </tbody>\n",
       "</table>\n",
       "</div>"
      ],
      "text/plain": [
       "  nama_kecamatan     nama_desa kategori  linmas\n",
       "0      CIPATUJAH       CIHERAS   linmas      24\n",
       "1      CIPATUJAH       CIPANAS   linmas      22\n",
       "2      CIPATUJAH       CIANDUM   linmas      25\n",
       "3      CIPATUJAH     CIPATUJAH   linmas      20\n",
       "4      CIPATUJAH  SINDANGKERTA   linmas      20"
      ]
     },
     "execution_count": 645,
     "metadata": {},
     "output_type": "execute_result"
    }
   ],
   "source": [
    "add_category_df14.head()"
   ]
  },
  {
   "cell_type": "code",
   "execution_count": 646,
   "id": "08fdc412-0dc0-439c-b2d6-65ce663df2ce",
   "metadata": {},
   "outputs": [
    {
     "data": {
      "text/plain": [
       "nama_kecamatan    1\n",
       "nama_desa         1\n",
       "kategori          0\n",
       "linmas            0\n",
       "dtype: int64"
      ]
     },
     "execution_count": 646,
     "metadata": {},
     "output_type": "execute_result"
    }
   ],
   "source": [
    "add_category_df14.isna().sum()"
   ]
  },
  {
   "cell_type": "code",
   "execution_count": 647,
   "id": "b0bf0119-bd02-43b5-9d2c-e0464f38d5e0",
   "metadata": {},
   "outputs": [],
   "source": [
    "add_category_df14 = add_category_df14.dropna()"
   ]
  },
  {
   "cell_type": "code",
   "execution_count": 648,
   "id": "fb6b5dc9-6292-4264-b1f8-d7441e5d90f8",
   "metadata": {},
   "outputs": [
    {
     "data": {
      "text/plain": [
       "nama_kecamatan    0\n",
       "nama_desa         0\n",
       "kategori          0\n",
       "linmas            0\n",
       "dtype: int64"
      ]
     },
     "execution_count": 648,
     "metadata": {},
     "output_type": "execute_result"
    }
   ],
   "source": [
    "add_category_df14.isna().sum()"
   ]
  },
  {
   "cell_type": "code",
   "execution_count": 649,
   "id": "68f43093-1601-4cc2-b8e4-c7aa3f350641",
   "metadata": {},
   "outputs": [
    {
     "name": "stdout",
     "output_type": "stream",
     "text": [
      "<class 'pandas.core.frame.DataFrame'>\n",
      "Index: 351 entries, 0 to 350\n",
      "Data columns (total 4 columns):\n",
      " #   Column          Non-Null Count  Dtype \n",
      "---  ------          --------------  ----- \n",
      " 0   nama_kecamatan  351 non-null    object\n",
      " 1   nama_desa       351 non-null    object\n",
      " 2   kategori        351 non-null    object\n",
      " 3   linmas          351 non-null    int64 \n",
      "dtypes: int64(1), object(3)\n",
      "memory usage: 13.7+ KB\n"
     ]
    }
   ],
   "source": [
    "add_category_df14.info()"
   ]
  },
  {
   "cell_type": "markdown",
   "id": "0a94f289-4b60-46da-8c6d-a0ded44b88b9",
   "metadata": {
    "jp-MarkdownHeadingCollapsed": true
   },
   "source": [
    "### Sheet 15\n"
   ]
  },
  {
   "cell_type": "code",
   "execution_count": 650,
   "id": "7e273031-6e63-425f-8bc0-507901fd3b86",
   "metadata": {},
   "outputs": [
    {
     "data": {
      "text/html": [
       "<div>\n",
       "<style scoped>\n",
       "    .dataframe tbody tr th:only-of-type {\n",
       "        vertical-align: middle;\n",
       "    }\n",
       "\n",
       "    .dataframe tbody tr th {\n",
       "        vertical-align: top;\n",
       "    }\n",
       "\n",
       "    .dataframe thead th {\n",
       "        text-align: right;\n",
       "    }\n",
       "</style>\n",
       "<table border=\"1\" class=\"dataframe\">\n",
       "  <thead>\n",
       "    <tr style=\"text-align: right;\">\n",
       "      <th></th>\n",
       "      <th>nama_kecamatan</th>\n",
       "      <th>nama_desa</th>\n",
       "      <th>kategori</th>\n",
       "      <th>bumdes</th>\n",
       "    </tr>\n",
       "  </thead>\n",
       "  <tbody>\n",
       "    <tr>\n",
       "      <th>0</th>\n",
       "      <td>CIPATUJAH</td>\n",
       "      <td>CIHERAS</td>\n",
       "      <td>bumdes</td>\n",
       "      <td>1</td>\n",
       "    </tr>\n",
       "    <tr>\n",
       "      <th>1</th>\n",
       "      <td>CIPATUJAH</td>\n",
       "      <td>CIPANAS</td>\n",
       "      <td>bumdes</td>\n",
       "      <td>1</td>\n",
       "    </tr>\n",
       "    <tr>\n",
       "      <th>2</th>\n",
       "      <td>CIPATUJAH</td>\n",
       "      <td>CIANDUM</td>\n",
       "      <td>bumdes</td>\n",
       "      <td>1</td>\n",
       "    </tr>\n",
       "    <tr>\n",
       "      <th>3</th>\n",
       "      <td>CIPATUJAH</td>\n",
       "      <td>CIPATUJAH</td>\n",
       "      <td>bumdes</td>\n",
       "      <td>1</td>\n",
       "    </tr>\n",
       "    <tr>\n",
       "      <th>4</th>\n",
       "      <td>CIPATUJAH</td>\n",
       "      <td>SINDANGKERTA</td>\n",
       "      <td>bumdes</td>\n",
       "      <td>1</td>\n",
       "    </tr>\n",
       "  </tbody>\n",
       "</table>\n",
       "</div>"
      ],
      "text/plain": [
       "  nama_kecamatan     nama_desa kategori  bumdes\n",
       "0      CIPATUJAH       CIHERAS   bumdes       1\n",
       "1      CIPATUJAH       CIPANAS   bumdes       1\n",
       "2      CIPATUJAH       CIANDUM   bumdes       1\n",
       "3      CIPATUJAH     CIPATUJAH   bumdes       1\n",
       "4      CIPATUJAH  SINDANGKERTA   bumdes       1"
      ]
     },
     "execution_count": 650,
     "metadata": {},
     "output_type": "execute_result"
    }
   ],
   "source": [
    "add_category_df15.head()"
   ]
  },
  {
   "cell_type": "code",
   "execution_count": 651,
   "id": "32df598a-dfe1-442a-81e0-506ba90e90e0",
   "metadata": {},
   "outputs": [
    {
     "data": {
      "text/plain": [
       "nama_kecamatan    0\n",
       "nama_desa         0\n",
       "kategori          0\n",
       "bumdes            0\n",
       "dtype: int64"
      ]
     },
     "execution_count": 651,
     "metadata": {},
     "output_type": "execute_result"
    }
   ],
   "source": [
    "add_category_df15.isna().sum()"
   ]
  },
  {
   "cell_type": "code",
   "execution_count": 652,
   "id": "e55d5bb4-ec9a-4594-8402-c1e6d12cc260",
   "metadata": {},
   "outputs": [
    {
     "name": "stdout",
     "output_type": "stream",
     "text": [
      "<class 'pandas.core.frame.DataFrame'>\n",
      "RangeIndex: 351 entries, 0 to 350\n",
      "Data columns (total 4 columns):\n",
      " #   Column          Non-Null Count  Dtype \n",
      "---  ------          --------------  ----- \n",
      " 0   nama_kecamatan  351 non-null    object\n",
      " 1   nama_desa       351 non-null    object\n",
      " 2   kategori        351 non-null    object\n",
      " 3   bumdes          351 non-null    int64 \n",
      "dtypes: int64(1), object(3)\n",
      "memory usage: 11.1+ KB\n"
     ]
    }
   ],
   "source": [
    "add_category_df15.info()"
   ]
  },
  {
   "cell_type": "markdown",
   "id": "aa883d86-f43a-4e6c-9db8-084eda7b370f",
   "metadata": {
    "jp-MarkdownHeadingCollapsed": true
   },
   "source": [
    "## TRANSFORM TO LONG DATA"
   ]
  },
  {
   "cell_type": "code",
   "execution_count": 654,
   "id": "dc2d1d00-9488-463b-8d7b-fe68533adfa1",
   "metadata": {},
   "outputs": [],
   "source": [
    "def long_data (df) :\n",
    "    long_df = pd.melt (\n",
    "        df,\n",
    "        id_vars=['nama_kecamatan', 'nama_desa', 'kategori'],\n",
    "        var_name='jenis',\n",
    "        value_name = 'jumlah'\n",
    "    )\n",
    "\n",
    "    return long_df"
   ]
  },
  {
   "cell_type": "code",
   "execution_count": 655,
   "id": "3267cc96-eabb-4aab-b555-f0b27c4b8fbe",
   "metadata": {},
   "outputs": [],
   "source": [
    "long_df1 = long_data(add_category_df1)\n",
    "long_df2 = long_data(add_category_df2)\n",
    "long_df3 = long_data(add_category_df3)\n",
    "long_df4 = long_data(add_category_df4)\n",
    "long_df5 = long_data(add_category_df5)\n",
    "long_df6 = long_data(add_category_df6)\n",
    "long_df7 = long_data(add_category_df7)\n",
    "long_df8 = long_data(add_category_df8)\n",
    "long_df9 = long_data(add_category_df9)\n",
    "long_df10 = long_data(add_category_df10)\n",
    "long_df11 = long_data(add_category_df11)\n",
    "long_df12 = long_data(add_category_df12)\n",
    "long_df13 = long_data(add_category_df13)\n",
    "long_df14 = long_data(add_category_df14)\n",
    "long_df15 = long_data(add_category_df15)"
   ]
  },
  {
   "cell_type": "code",
   "execution_count": 656,
   "id": "0dcd9c36-0cb1-4f3f-8645-c8958c78e795",
   "metadata": {},
   "outputs": [
    {
     "data": {
      "text/html": [
       "<div>\n",
       "<style scoped>\n",
       "    .dataframe tbody tr th:only-of-type {\n",
       "        vertical-align: middle;\n",
       "    }\n",
       "\n",
       "    .dataframe tbody tr th {\n",
       "        vertical-align: top;\n",
       "    }\n",
       "\n",
       "    .dataframe thead th {\n",
       "        text-align: right;\n",
       "    }\n",
       "</style>\n",
       "<table border=\"1\" class=\"dataframe\">\n",
       "  <thead>\n",
       "    <tr style=\"text-align: right;\">\n",
       "      <th></th>\n",
       "      <th>nama_kecamatan</th>\n",
       "      <th>nama_desa</th>\n",
       "      <th>kategori</th>\n",
       "      <th>jenis</th>\n",
       "      <th>jumlah</th>\n",
       "    </tr>\n",
       "  </thead>\n",
       "  <tbody>\n",
       "    <tr>\n",
       "      <th>0</th>\n",
       "      <td>CIPATUJAH</td>\n",
       "      <td>BANTARKALONG</td>\n",
       "      <td>sarana_kesehatan</td>\n",
       "      <td>rumah_sakit</td>\n",
       "      <td>0</td>\n",
       "    </tr>\n",
       "    <tr>\n",
       "      <th>1</th>\n",
       "      <td>CIPATUJAH</td>\n",
       "      <td>CIANDUM</td>\n",
       "      <td>sarana_kesehatan</td>\n",
       "      <td>rumah_sakit</td>\n",
       "      <td>0</td>\n",
       "    </tr>\n",
       "    <tr>\n",
       "      <th>2</th>\n",
       "      <td>CIPATUJAH</td>\n",
       "      <td>CIHERAS</td>\n",
       "      <td>sarana_kesehatan</td>\n",
       "      <td>rumah_sakit</td>\n",
       "      <td>0</td>\n",
       "    </tr>\n",
       "    <tr>\n",
       "      <th>3</th>\n",
       "      <td>CIPATUJAH</td>\n",
       "      <td>CIKAWUNGADING</td>\n",
       "      <td>sarana_kesehatan</td>\n",
       "      <td>rumah_sakit</td>\n",
       "      <td>0</td>\n",
       "    </tr>\n",
       "    <tr>\n",
       "      <th>4</th>\n",
       "      <td>CIPATUJAH</td>\n",
       "      <td>CIPANAS</td>\n",
       "      <td>sarana_kesehatan</td>\n",
       "      <td>rumah_sakit</td>\n",
       "      <td>0</td>\n",
       "    </tr>\n",
       "  </tbody>\n",
       "</table>\n",
       "</div>"
      ],
      "text/plain": [
       "  nama_kecamatan      nama_desa          kategori        jenis  jumlah\n",
       "0      CIPATUJAH   BANTARKALONG  sarana_kesehatan  rumah_sakit       0\n",
       "1      CIPATUJAH        CIANDUM  sarana_kesehatan  rumah_sakit       0\n",
       "2      CIPATUJAH        CIHERAS  sarana_kesehatan  rumah_sakit       0\n",
       "3      CIPATUJAH  CIKAWUNGADING  sarana_kesehatan  rumah_sakit       0\n",
       "4      CIPATUJAH        CIPANAS  sarana_kesehatan  rumah_sakit       0"
      ]
     },
     "execution_count": 656,
     "metadata": {},
     "output_type": "execute_result"
    }
   ],
   "source": [
    "long_df1.head()"
   ]
  },
  {
   "cell_type": "markdown",
   "id": "739ee809-5bf8-495d-9a1d-a3d43c4d141e",
   "metadata": {
    "jp-MarkdownHeadingCollapsed": true
   },
   "source": [
    "## Merge Data"
   ]
  },
  {
   "cell_type": "code",
   "execution_count": 670,
   "id": "b8acf140-add6-4f6f-b33c-1a8c08baaeb1",
   "metadata": {},
   "outputs": [],
   "source": [
    "dfs = [\n",
    "    long_df1, \n",
    "    long_df2, \n",
    "    long_df3, \n",
    "    long_df4, \n",
    "    long_df5, \n",
    "    long_df6, \n",
    "    long_df7, \n",
    "    long_df8, \n",
    "    long_df9, \n",
    "    long_df10, \n",
    "    long_df11, \n",
    "    long_df12, \n",
    "    long_df13, \n",
    "    long_df14, \n",
    "    long_df15\n",
    "]"
   ]
  },
  {
   "cell_type": "code",
   "execution_count": 671,
   "id": "096f0a10-e864-4930-98dd-28de3e6e7feb",
   "metadata": {},
   "outputs": [],
   "source": [
    "merged_df = pd.concat(dfs, ignore_index=True)"
   ]
  },
  {
   "cell_type": "code",
   "execution_count": 674,
   "id": "b6bea834-fb49-4775-aaea-c8c9fa4fee9e",
   "metadata": {},
   "outputs": [
    {
     "data": {
      "text/plain": [
       "(32292, 5)"
      ]
     },
     "execution_count": 674,
     "metadata": {},
     "output_type": "execute_result"
    }
   ],
   "source": [
    "merged_df.shape"
   ]
  },
  {
   "cell_type": "code",
   "execution_count": 677,
   "id": "c811f7fd-8206-4fdf-b775-9542ae8e947d",
   "metadata": {},
   "outputs": [
    {
     "data": {
      "text/plain": [
       "(array(['CIPATUJAH', 'KARANGNUNGGAL', 'CIKALONG', 'PANCATENGAH',\n",
       "        'CIKATOMAS', 'CIBALONG', 'PARUNGPONTENG', 'BANTARKALONG',\n",
       "        'BOJONGASIH', 'CULAMEGA', 'BOJONGGAMBIR', 'SODONGHILIR', 'TARAJU',\n",
       "        'SALAWU', 'PUSPAHIANG', 'TANJUNGJAYA', 'SUKARAJA', 'SALOPA',\n",
       "        'JATIWARAS', 'CINEAM', 'KARANGJAYA', 'MANONJAYA', 'GUNUNGTANJUNG',\n",
       "        'SINGAPARNA', 'SUKARAME', 'MANGUNREJA', 'CIGALONTANG', 'LEUWISARI',\n",
       "        'SARIWANGI', 'PADAKEMBANG', 'SUKARATU', 'CISAYONG', 'SUKAHENING',\n",
       "        'RAJAPOLAH', 'JAMANIS', 'CIAWI', 'KADIPATEN', 'PAGERAGEUNG',\n",
       "        'SUKARESIK'], dtype=object),\n",
       " 39)"
      ]
     },
     "execution_count": 677,
     "metadata": {},
     "output_type": "execute_result"
    }
   ],
   "source": [
    "merged_df['nama_kecamatan'].unique(), merged_df['nama_kecamatan'].nunique()"
   ]
  },
  {
   "cell_type": "code",
   "execution_count": 678,
   "id": "946a3cde-d7a9-4bd0-883d-6f4fd5d5631e",
   "metadata": {},
   "outputs": [
    {
     "data": {
      "text/plain": [
       "(array(['sarana_kesehatan', 'jumlah_sls', 'wabah_penyakit',\n",
       "        'wabah_meninggal', 'tempat_ibadah', 'lembaga_kemasyarakatan',\n",
       "        'bts', 'sinyal', 'pos', 'industri', 'perbankan', 'kud',\n",
       "        'sarana_prasarana', 'linmas', 'bumdes'], dtype=object),\n",
       " 15)"
      ]
     },
     "execution_count": 678,
     "metadata": {},
     "output_type": "execute_result"
    }
   ],
   "source": [
    "merged_df['kategori'].unique(), merged_df['kategori'].nunique()"
   ]
  },
  {
   "cell_type": "code",
   "execution_count": 680,
   "id": "b336df70-ae9d-4a66-82ff-a080a79f9a4c",
   "metadata": {},
   "outputs": [
    {
     "data": {
      "text/plain": [
       "nama_kecamatan    0\n",
       "nama_desa         0\n",
       "kategori          0\n",
       "jenis             0\n",
       "jumlah            0\n",
       "dtype: int64"
      ]
     },
     "execution_count": 680,
     "metadata": {},
     "output_type": "execute_result"
    }
   ],
   "source": [
    "merged_df.isna().sum()"
   ]
  },
  {
   "cell_type": "code",
   "execution_count": 681,
   "id": "50a547c0-c204-46ea-9479-478ccc2a3a7e",
   "metadata": {},
   "outputs": [
    {
     "name": "stdout",
     "output_type": "stream",
     "text": [
      "<class 'pandas.core.frame.DataFrame'>\n",
      "RangeIndex: 32292 entries, 0 to 32291\n",
      "Data columns (total 5 columns):\n",
      " #   Column          Non-Null Count  Dtype \n",
      "---  ------          --------------  ----- \n",
      " 0   nama_kecamatan  32292 non-null  object\n",
      " 1   nama_desa       32292 non-null  object\n",
      " 2   kategori        32292 non-null  object\n",
      " 3   jenis           32292 non-null  object\n",
      " 4   jumlah          32292 non-null  int64 \n",
      "dtypes: int64(1), object(4)\n",
      "memory usage: 1.2+ MB\n"
     ]
    }
   ],
   "source": [
    "merged_df.info()"
   ]
  },
  {
   "cell_type": "markdown",
   "id": "2a6b0955-1a9b-4676-9901-5f14903a82d7",
   "metadata": {},
   "source": [
    "## Save to Excel File"
   ]
  },
  {
   "cell_type": "code",
   "execution_count": 675,
   "id": "726ddf21-9cc9-41c8-955e-e064fcf4e16b",
   "metadata": {},
   "outputs": [],
   "source": [
    "with pd.ExcelWriter('D:/Test/final_kcda.xlsx') as writer :\n",
    "    merged_df.to_excel(writer, index =False)"
   ]
  }
 ],
 "metadata": {
  "kernelspec": {
   "display_name": "Python 3 (ipykernel)",
   "language": "python",
   "name": "python3"
  },
  "language_info": {
   "codemirror_mode": {
    "name": "ipython",
    "version": 3
   },
   "file_extension": ".py",
   "mimetype": "text/x-python",
   "name": "python",
   "nbconvert_exporter": "python",
   "pygments_lexer": "ipython3",
   "version": "3.12.3"
  }
 },
 "nbformat": 4,
 "nbformat_minor": 5
}
